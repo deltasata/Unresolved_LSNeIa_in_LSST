{
 "cells": [
  {
   "cell_type": "code",
   "execution_count": 237,
   "metadata": {},
   "outputs": [],
   "source": [
    "%reset -f\n",
    "import matplotlib.pyplot as plt\n",
    "import numpy as np\n",
    "import corner\n",
    "import sncosmo\n",
    "from scipy.interpolate import interp1d as interp1d\n",
    "import sys\n",
    "import time\n",
    "import pickle\n",
    "import os"
   ]
  },
  {
   "cell_type": "code",
   "execution_count": 238,
   "metadata": {},
   "outputs": [],
   "source": [
    "clrs=['#1f77b4', '#ff7f0e', '#2ca02c', '#d62728', '#9467bd', '#8c564b', '#e377c2', '#7f7f7f', '#bcbd22', '#17becf']"
   ]
  },
  {
   "cell_type": "code",
   "execution_count": 239,
   "metadata": {},
   "outputs": [],
   "source": [
    "paper_out_dir='./out_dir/'"
   ]
  },
  {
   "cell_type": "code",
   "execution_count": 240,
   "metadata": {},
   "outputs": [
    {
     "name": "stdout",
     "output_type": "stream",
     "text": [
      "(250, 16)\n",
      "98 152\n",
      "87\n",
      "49 38\n"
     ]
    }
   ],
   "source": [
    "#stored ascii files\n",
    "catalog_dir='./catalog_data/'\n",
    "all_good_downsampled_data=np.loadtxt(catalog_dir+'down_sampled_data/'+'All_good_downsample.txt')\n",
    "print(all_good_downsampled_data.shape)\n",
    "idx2=np.where(all_good_downsampled_data[:,1]==2)[0]\n",
    "idx4=np.where(all_good_downsampled_data[:,1]==4)[0]\n",
    "print(len(idx2/2),len(idx4/4))\n",
    "\n",
    "only_sysn_ni_data=np.loadtxt(catalog_dir+'down_sampled_data/'+'all_good_sys.txt')\n",
    "print(len(only_sysn_ni_data[:,0]))\n",
    "sysn_list_double=(only_sysn_ni_data[:,0])[only_sysn_ni_data[:,1]==2.]\n",
    "sysn_list_quad=(only_sysn_ni_data[:,0])[only_sysn_ni_data[:,1]==4.]\n",
    "print(len(sysn_list_double),len(sysn_list_quad))"
   ]
  },
  {
   "cell_type": "code",
   "execution_count": 241,
   "metadata": {},
   "outputs": [],
   "source": [
    "m_ref=0;F_ref=1.0e12\n",
    "def get_flux(m):\n",
    "    return F_ref*10**(0.4*(m_ref-m))\n",
    "\n",
    "def get_mag(F):\n",
    "    return m_ref-2.5*np.log10(F/F_ref)\n",
    "\n",
    "def get_flu_err(m,sig_m):\n",
    "    delF_delm=-0.4*np.log(10.)*F_ref*10**(0.4*(m_ref-m))\n",
    "    sigF=np.abs(delF_delm)*sig_m\n",
    "    \n",
    "    return sigF\n",
    "\n",
    "def get_flu_err2(m,sig_m):\n",
    "    del_F=get_mag(m+sig_m)-get_mag(m-sig_m)\n",
    "    \n",
    "    return np.abs(del_F)/2.0\n",
    "\n",
    "def calculate_length(obj):\n",
    "    try:\n",
    "        return len(obj)\n",
    "    except TypeError:\n",
    "        return 1\n",
    "def get_interp(x,y):\n",
    "    method='cubic'\n",
    "    return interp1d(x,y, kind=method,bounds_error=False,fill_value=(y[0],y[-1]))\n",
    "\n",
    "def get_shifted(y_interp,x,dx=0.0,mux=1.0):\n",
    "    return mux*y_interp(x-dx)\n",
    "\n",
    "def convert_np_arr(datalist):\n",
    "    ii=0\n",
    "    ret=[]\n",
    "    for data in datalist:\n",
    "        ret.append(np.array(data))\n",
    "    return ret\n"
   ]
  },
  {
   "cell_type": "code",
   "execution_count": 242,
   "metadata": {},
   "outputs": [],
   "source": [
    "infile=catalog_dir+'Om10_10y_LSNeIA_catalog.txt'"
   ]
  },
  {
   "cell_type": "code",
   "execution_count": 243,
   "metadata": {},
   "outputs": [],
   "source": [
    "params = {'legend.fontsize': 10,\n",
    "          'axes.labelsize': 16,\n",
    "          'axes.titlesize': 13,\n",
    "          #'xtick.labelsize' :11,\n",
    "          #'ytick.labelsize': 11,\n",
    "          'mathtext.fontset': 'cm',\n",
    "          'mathtext.rm': 'serif',\n",
    "          'grid.color': 'k',\n",
    "          'grid.linestyle': ':',\n",
    "          'grid.linewidth': 0.5,\n",
    "          'savefig.bbox':'tight'\n",
    "          #'axes.linewidth':tw\n",
    "         }\n",
    "plt.rcParams.update(params)\n",
    "plt.rcParams[\"figure.figsize\"] = (6.,4.0)"
   ]
  },
  {
   "cell_type": "code",
   "execution_count": 244,
   "metadata": {},
   "outputs": [],
   "source": [
    "def min_max(A):\n",
    "    return A.min(),A.max()\n"
   ]
  },
  {
   "cell_type": "code",
   "execution_count": 245,
   "metadata": {},
   "outputs": [
    {
     "name": "stdout",
     "output_type": "stream",
     "text": [
      "(124695, 16)\n"
     ]
    }
   ],
   "source": [
    "data_cols=np.loadtxt(infile)\n",
    "print(data_cols.shape)"
   ]
  },
  {
   "cell_type": "code",
   "execution_count": 246,
   "metadata": {},
   "outputs": [
    {
     "name": "stdout",
     "output_type": "stream",
     "text": [
      "(124416,) (124416,)\n"
     ]
    }
   ],
   "source": [
    "#columns are as follows\n",
    "#sysn, s_mag_I,mag_deviation,s_z,lens_z,x_pos,y_pos,kappa,gamma,td,magnification,im_mag_I,im_sep\n",
    "[sysn, s_mag_I,mag_deviation,s_z,lens_z,x_pos,y_pos,kappa,gamma,td,magnification,im_mag_I,im_sep,NIs,lens_vel_disp,lens_ellipticity]=[data_cols[:,ii] for ii in range(16)]\n",
    "\n",
    "idx_dq=np.where(NIs!=3)[0]\n",
    "[sysn, s_mag_I,mag_deviation,s_z,lens_z,x_pos,y_pos,kappa,gamma,td,magnification,im_mag_I,im_sep,NIs,lens_vel_disp,lens_ellipticity]=[data_cols[idx_dq,ii] for ii in range(16)]\n",
    "sysn=sysn.astype(int)\n",
    "print(NIs.shape,sysn.shape)"
   ]
  },
  {
   "cell_type": "code",
   "execution_count": 247,
   "metadata": {},
   "outputs": [
    {
     "data": {
      "text/plain": [
       "array([ 22,  24,  30,  36,  71,  75, 105, 137, 141, 145, 215, 245, 250,\n",
       "       273, 320, 324, 377, 404, 417, 429])"
      ]
     },
     "execution_count": 247,
     "metadata": {},
     "output_type": "execute_result"
    }
   ],
   "source": [
    "(sysn[NIs==4][::4])[:20]"
   ]
  },
  {
   "cell_type": "code",
   "execution_count": 248,
   "metadata": {},
   "outputs": [
    {
     "name": "stdout",
     "output_type": "stream",
     "text": [
      "total unique system= 56776\n",
      "No. of doubles= 51344  :: No. of quads= 5432\n",
      "No. of doubles + quads= 56776  :: should match with  56776\n",
      "----- With LSST-cut at 22.6 mag and image sep more than 0.5 -----\n",
      "Total, doubles, quads= 270 189 81\n",
      "quad percentage= 0.3\n"
     ]
    }
   ],
   "source": [
    "def get_numbers_doubles_quads(sysn):\n",
    "    #unique systems\n",
    "    unique_sysn,bb,cc=np.unique(sysn,return_index=True, return_counts=True)\n",
    "    Tot_Nsys_unique=len(unique_sysn)\n",
    "    Nsys_unique_double=len(np.where(cc==2)[0])\n",
    "    Nsys_unique_quad=len(np.where(cc==4)[0])\n",
    "    if Nsys_unique_double+Nsys_unique_quad!=Tot_Nsys_unique:\n",
    "        print(\"Problem, N_tot!=N_double + N_quad: Bad results\")\n",
    "    return [Tot_Nsys_unique, Nsys_unique_double, Nsys_unique_quad],[unique_sysn,bb,cc]\n",
    "    \n",
    "    \n",
    "\n",
    "\n",
    "[Tot_Nsys_unique, Nsys_unique_double, Nsys_unique_quad],[Unique_sysn,Unique_sys_ids,Unique_im_counts]=get_numbers_doubles_quads(sysn)\n",
    "print('total unique system=',Tot_Nsys_unique)\n",
    "print('No. of doubles=',Nsys_unique_double, ' :: No. of quads=',Nsys_unique_quad)\n",
    "print('No. of doubles + quads=',Nsys_unique_double+Nsys_unique_quad,' :: should match with ', Tot_Nsys_unique)\n",
    "\n",
    "LSST_Imag_cut=22.6; LSST_im_sep_cut=0.5\n",
    "\n",
    "print(\"----- With LSST-cut at %s mag and image sep more than %s -----\"%(LSST_Imag_cut,LSST_im_sep_cut))\n",
    "idx_cut=np.where((im_mag_I<=22.6) & (im_sep>0.5))[0]\n",
    "sysn_check=sysn[idx_cut]\n",
    "[totN,dubN,quadN],temp_info=get_numbers_doubles_quads(sysn_check)\n",
    "print('Total, doubles, quads=',totN,dubN,quadN)\n",
    "print('quad percentage=',quadN/totN)"
   ]
  },
  {
   "cell_type": "code",
   "execution_count": 249,
   "metadata": {},
   "outputs": [
    {
     "name": "stdout",
     "output_type": "stream",
     "text": [
      "Constarints: nothing on image separation; iband mag < 30.0\n"
     ]
    },
    {
     "data": {
      "image/png": "[encoded data removed]",
      "text/plain": [
       "<Figure size 600x400 with 1 Axes>"
      ]
     },
     "metadata": {},
     "output_type": "display_data"
    },
    {
     "data": {
      "image/png": "[encoded data removed]",
      "text/plain": [
       "<Figure size 600x400 with 1 Axes>"
      ]
     },
     "metadata": {},
     "output_type": "display_data"
    }
   ],
   "source": [
    "print(\"Constarints: nothing on image separation; iband mag < 30.0\")\n",
    "plt.hist(s_z)\n",
    "plt.xlabel(r\"source redshift\")\n",
    "plt.show()\n",
    "\n",
    "plt.hist(lens_z)\n",
    "plt.xlabel(r\"lens redshift\")\n",
    "plt.show()"
   ]
  },
  {
   "cell_type": "code",
   "execution_count": 250,
   "metadata": {},
   "outputs": [
    {
     "data": {
      "image/png": "[encoded data removed]",
      "text/plain": [
       "<Figure size 600x400 with 1 Axes>"
      ]
     },
     "metadata": {},
     "output_type": "display_data"
    }
   ],
   "source": [
    "Unique_im_sep=im_sep[Unique_sys_ids]\n",
    "idx_im2=np.where(Unique_im_counts==2)[0]\n",
    "idx_im4=np.where(Unique_im_counts==4)[0]\n",
    "im_sep2=Unique_im_sep[idx_im2]\n",
    "im_sep4=Unique_im_sep[idx_im4]\n",
    "\n",
    "Nbin=60\n",
    "temp=plt.hist(Unique_im_sep,bins=Nbin,alpha=0.4, label=r\"All\",color=clrs[4])\n",
    "temp=plt.hist(im_sep2,bins=Nbin,histtype='step',lw=2.0, label=r\"double\",color=clrs[2])\n",
    "temp=plt.hist(im_sep4,bins=Nbin,histtype='step',lw=2.0, label=r\"quad\",color=clrs[3])\n",
    "plt.xlim([0,3.0])\n",
    "plt.legend()\n",
    "plt.xlabel(r\"$\\theta$ (arcsec)\")\n",
    "plt.ylabel(r\"$N_{\\rm sys}$\")\n",
    "#plt.savefig(paper_out_dir+'Nsys_imsep0.pdf')\n",
    "plt.show()"
   ]
  },
  {
   "cell_type": "code",
   "execution_count": 251,
   "metadata": {},
   "outputs": [],
   "source": [
    "def get_sysN_im_sep(sysn,im_sep,image_sep_cut_arr):\n",
    "    Nsep=len(image_sep_cut_arr)\n",
    "    Tot_Nsys_unique, Nsys_unique_double, Nsys_unique_quad=np.zeros(Nsep),np.zeros(Nsep),np.zeros(Nsep)\n",
    "    for ii,image_sep_cut in enumerate(image_sep_cut_arr):\n",
    "        [Tot_Nsys_unique[ii], Nsys_unique_double[ii], Nsys_unique_quad[ii]],temp_data=get_numbers_doubles_quads(sysn[im_sep<=image_sep_cut])\n",
    "        \n",
    "    return Tot_Nsys_unique, Nsys_unique_double, Nsys_unique_quad"
   ]
  },
  {
   "cell_type": "code",
   "execution_count": 252,
   "metadata": {},
   "outputs": [
    {
     "data": {
      "image/png": "[encoded data removed]",
      "text/plain": [
       "<Figure size 600x400 with 1 Axes>"
      ]
     },
     "metadata": {},
     "output_type": "display_data"
    },
    {
     "data": {
      "image/png": "[encoded data removed]",
      "text/plain": [
       "<Figure size 600x400 with 1 Axes>"
      ]
     },
     "metadata": {},
     "output_type": "display_data"
    }
   ],
   "source": [
    "im_sep_cut_arr=np.linspace(0.01,2.0,1000)\n",
    "Nsys_arr, Nsys_double, Nsys_quad=get_sysN_im_sep(sysn,im_sep,im_sep_cut_arr)\n",
    "plt.plot(im_sep_cut_arr,Nsys_arr,lw=2.0, label=r\"All\",c=clrs[4])\n",
    "plt.plot(im_sep_cut_arr,Nsys_double,ls='dotted',lw=3.0, label=r\"double\",c=clrs[2])\n",
    "plt.plot(im_sep_cut_arr,Nsys_quad,ls='dashed', label=r\"quad\",c=clrs[3])\n",
    "\n",
    "plt.xlabel(r\"$\\theta'$ (arcsec)\")\n",
    "plt.ylabel(r\"$N_{\\rm sys} (\\theta \\leq \\theta')$\")\n",
    "#plt.yscale('log')\n",
    "plt.legend()\n",
    "plt.savefig(paper_out_dir+'Nsys_imsep1.pdf')\n",
    "plt.show()\n",
    "\n",
    "plt.plot(im_sep_cut_arr,100.0*Nsys_arr/Tot_Nsys_unique,lw=2.0, label=r\"All\",c=clrs[4])\n",
    "plt.plot(im_sep_cut_arr,100.0*Nsys_double/Nsys_unique_double,ls='dotted',lw=3.0, label=r\"double\",c=clrs[2])\n",
    "plt.plot(im_sep_cut_arr,100.0*Nsys_quad/Nsys_unique_quad,ls='dashed', label=r\"quad\",c=clrs[3])\n",
    "\n",
    "plt.xlabel(r\"$\\theta'$ (arcsec)\")\n",
    "plt.ylabel(r\"% of sys $(\\theta \\leq \\theta')$\")\n",
    "\n",
    "plt.legend()\n",
    "plt.savefig(paper_out_dir+'Nsys_imsep2.pdf')\n",
    "plt.show()"
   ]
  },
  {
   "cell_type": "code",
   "execution_count": 253,
   "metadata": {},
   "outputs": [],
   "source": [
    "t0=50\n",
    "def get_lc_hsiao(t,z=0.4,band='lssti'):\n",
    "    model = sncosmo.Model(source='hsiao')\n",
    "    model.set(z=z, t0=t0, amplitude=1.e-5)\n",
    "    flux=model.bandflux(band,t)\n",
    "    \n",
    "    return flux\n",
    "\n",
    "def get_unresolved_peak_mag(z,mus,dts,smag):\n",
    "#     if dts[0]!=0:\n",
    "#         print('dts not in proper form..exiting')\n",
    "#         #sys.exit()\n",
    "    t=np.linspace(0,150,150)\n",
    "    f0c=get_flux(smag)\n",
    "    flux=get_lc_hsiao(t,z)\n",
    "    flux=f0c*flux/flux.max()\n",
    "    flux_interp=get_interp(t,flux)\n",
    "    flux=np.zeros(len(t))\n",
    "    for mu,dt in zip(mus,dts):\n",
    "        flux=flux+mu*flux_interp(t-dt)\n",
    "    return get_mag(flux.max())\n",
    "\n",
    "def get_unresolved_flux(sysn_check):\n",
    "    ids=np.where(sysn==sysn_check)[0]\n",
    "    mus=magnification[ids]\n",
    "    souce_mags=s_mag_I[ids]#-mag_deviation[ids]\n",
    "    source_fluxes=get_flux(souce_mags)\n",
    "    magnified_fluexs=source_fluxes*np.abs(mus)\n",
    "    rough_unresolved_flux=np.sum(magnified_fluexs)\n",
    "    rough_unresolved_mag=get_mag(rough_unresolved_flux)\n",
    "    image_mags=get_mag(-np.sort(-magnified_fluexs))\n",
    "    \n",
    "    #print(source_fluxes)\n",
    "    #print(mus)\n",
    "    #print(get_mag(source_fluxes*np.abs(mus)))\n",
    "    #return souce_mags,rough_unresolved_flux,rough_unresolved_mag,second_brightest_mag\n",
    "    z=(s_z[ids])[0];dts=td[ids]\n",
    "    #print(souce_mags,np.abs(mus),dts)\n",
    "    unresolved_peak_mag=get_unresolved_peak_mag(z,np.abs(mus),dts,souce_mags[0])\n",
    "    \n",
    "    if len(mus)==2:\n",
    "        return rough_unresolved_mag,unresolved_peak_mag,image_mags[1]\n",
    "    else:\n",
    "        ret=np.zeros(2+len(mus))\n",
    "        ret[:2]=rough_unresolved_mag,unresolved_peak_mag\n",
    "        ret[2:]=image_mags\n",
    "        return ret\n",
    "\n",
    "def rough_check(mus,smag):#do not use\n",
    "    f0c=get_flux(smag)\n",
    "    return get_mag(np.sum(np.abs(mus)*f0c))      "
   ]
  },
  {
   "cell_type": "code",
   "execution_count": 254,
   "metadata": {},
   "outputs": [
    {
     "name": "stdout",
     "output_type": "stream",
     "text": [
      "[27.52253238 27.64758468 28.75013987 28.82055729 28.89297062 30.11764473]\n"
     ]
    }
   ],
   "source": [
    "sysn_check=145\n",
    "print(get_unresolved_flux(sysn_check))\n",
    "# rough_check( [3.36384874 , 1.88300945 ],28.07)"
   ]
  },
  {
   "cell_type": "code",
   "execution_count": 255,
   "metadata": {},
   "outputs": [],
   "source": [
    "double_sysn=Unique_sysn[idx_im2]\n",
    "quad_sysn=Unique_sysn[idx_im4]\n",
    "\n",
    "double_unres_secondBrightest_mag=np.zeros((len(idx_im2),3))\n",
    "quad_unres_secondBrightest_mag=np.zeros((len(idx_im4),6))\n",
    "\n",
    "for ii,sysi in enumerate(double_sysn):\n",
    "    double_unres_secondBrightest_mag[ii]=get_unresolved_flux(sysi)\n",
    "    \n",
    "for ii,sysi in enumerate(quad_sysn):\n",
    "    quad_unres_secondBrightest_mag[ii]=get_unresolved_flux(sysi)"
   ]
  },
  {
   "cell_type": "code",
   "execution_count": 256,
   "metadata": {},
   "outputs": [],
   "source": [
    "def cal_im_sep(sysn_check,sysn=sysn,x_pos=x_pos,y_pos=y_pos,magnification=magnification):\n",
    "    idxc=np.where(sysn==sysn_check)[0]\n",
    "    mus=np.abs(magnification[idxc]); idx_sort_mu=np.argsort(-mus); idxc=idxc[idx_sort_mu]\n",
    "    #print(im_sep[idxc], mus[idx_sort_mu])\n",
    "    #print(im_sep[idxc])\n",
    "    im_seps=[]\n",
    "    xpos,ypos=x_pos[idxc],y_pos[idxc]; Nim=len(idxc)\n",
    "    for ii in range(Nim):\n",
    "        x1,y1=xpos[ii],ypos[ii]\n",
    "        \n",
    "        for jj in range(ii+1,Nim):\n",
    "            x2,y2=xpos[jj],ypos[jj]\n",
    "            sep=np.sqrt((x2-x1)**2+ (y2-y1)**2)\n",
    "            im_seps.append(sep)\n",
    "    return np.array(im_seps)\n",
    "       \n",
    "# sys_check=250\n",
    "# im_seps_sys=cal_im_sep(sys_check)\n",
    "# print(im_seps_sys,im_seps_sys.min(),im_seps_sys.max())\n",
    "# idx_dq=np.where(sysn==sys_check)[0]\n",
    "# print(data_cols[idx_dq,:])\n",
    "# print(magnification[idx_dq])\n",
    "# print(x_pos[idx_dq])\n",
    "# print(y_pos[idx_dq])\n",
    "\n",
    "def quad_find_if_res_or_unres(sys_check,quad_mag_data,LSST_mag_cut,im_sep_cut):\n",
    "    t0,t1=quad_mag_data[:2]\n",
    "    im_mags=quad_mag_data[2:]\n",
    "    im_seps_sys=cal_im_sep(sys_check)\n",
    "    \n",
    "    if im_mags[0]>LSST_mag_cut or np.amax(im_seps_sys)<=im_sep_cut:\n",
    "            return 0\n",
    "    kk=0\n",
    "    for ii,im_mag_i in enumerate(im_mags):\n",
    "        #print('im_mag_i=',im_mag_i)\n",
    "        if im_mag_i > LSST_mag_cut:\n",
    "            #print('loop1',kk,im_mag_i)\n",
    "            return 0\n",
    "        else:\n",
    "            for im_mag_j in im_mags[ii+1:]:\n",
    "                #print('im_mag_j=',im_mag_j)\n",
    "                if im_mag_j <=LSST_mag_cut and im_seps_sys[kk]>im_sep_cut:\n",
    "                    #print(\"resolved:\",im_mag_i,im_mag_j)\n",
    "                    return 1\n",
    "                else:\n",
    "                    #print('kk=',kk)\n",
    "                    kk+=1\n",
    "    return -1\n",
    "        "
   ]
  },
  {
   "cell_type": "code",
   "execution_count": 257,
   "metadata": {},
   "outputs": [
    {
     "name": "stdout",
     "output_type": "stream",
     "text": [
      "CPU times: user 335 ms, sys: 0 ns, total: 335 ms\n",
      "Wall time: 334 ms\n"
     ]
    },
    {
     "data": {
      "text/plain": [
       "(571, 140, 189, 89, 571, 140, 189, 89)"
      ]
     },
     "execution_count": 257,
     "metadata": {},
     "output_type": "execute_result"
    }
   ],
   "source": [
    "%%time\n",
    "\n",
    "def get_res_unres_sys(LSST_mag_cut,im_sep_cut):\n",
    "    Ndouble_resolved_detect=0\n",
    "    Ndouble_unresolved_detect=0\n",
    "    Nquad_resolved_detect=0\n",
    "    Nquad_unresolved_detect=0\n",
    "    unres_doubles=[]\n",
    "    unres_quads=[]\n",
    "    res_doubles=[]\n",
    "    res_quads=[]\n",
    "    \n",
    "    for ii,sysi in enumerate(double_sysn):\n",
    "        t0,t1,t2=double_unres_secondBrightest_mag[ii]\n",
    "        if t1<=LSST_mag_cut and im_sep2[ii]<=im_sep_cut:\n",
    "            Ndouble_unresolved_detect+=1\n",
    "            unres_doubles.append(sysi)\n",
    "        elif t2<=LSST_mag_cut and im_sep2[ii]>im_sep_cut:\n",
    "            Ndouble_resolved_detect+=1\n",
    "            res_doubles.append(sysi)\n",
    "    for ii,sysi in enumerate(quad_sysn):        \n",
    "        if quad_find_if_res_or_unres(sysi,quad_unres_secondBrightest_mag[ii],LSST_mag_cut,im_sep_cut):\n",
    "            Nquad_resolved_detect+=1\n",
    "            res_quads.append(sysi)\n",
    "        elif (quad_unres_secondBrightest_mag[ii])[1]<=LSST_mag_cut and im_sep4[ii]<=im_sep_cut:\n",
    "            Nquad_unresolved_detect+=1\n",
    "            unres_quads.append(sysi)\n",
    "            \n",
    "    return [unres_doubles,unres_quads,res_doubles,res_quads],[Ndouble_unresolved_detect,Nquad_unresolved_detect,\n",
    "                                                                 Ndouble_resolved_detect,Nquad_resolved_detect]\n",
    "    \n",
    "\n",
    "check_mag_cut,check_im_sep_cut=22.6,0.5    \n",
    "[unres_doubles,unres_quads,res_doubles,res_quads],[Ndouble_unresolved_detect,Nquad_unresolved_detect,\n",
    "                                                                 Ndouble_resolved_detect,Nquad_resolved_detect]=get_res_unres_sys(check_mag_cut,check_im_sep_cut)\n",
    "Ndouble_unresolved_detect,Nquad_unresolved_detect,Ndouble_resolved_detect,Nquad_resolved_detect,len(unres_doubles),len(unres_quads),len(res_doubles),len(res_quads)"
   ]
  },
  {
   "cell_type": "code",
   "execution_count": 258,
   "metadata": {},
   "outputs": [],
   "source": [
    "LSST_mag_cut=22.6\n",
    "NLSST_theta=71\n",
    "LSST_im_sep_cut_arr=np.linspace(0.4,0.75,NLSST_theta);\n",
    "Ndouble_resolved_detect_arr=np.zeros(NLSST_theta)\n",
    "Ndouble_unresolved_detect_arr=np.zeros(NLSST_theta)\n",
    "Nquad_resolved_detect_arr=np.zeros(NLSST_theta)\n",
    "Nquad_unresolved_detect_arr=np.zeros(NLSST_theta)\n",
    "\n",
    "for jj,im_sep_cut_i in enumerate(LSST_im_sep_cut_arr):\n",
    "    unres_res_sys_data,[Ndouble_unresolved_detect_arr[jj],Nquad_unresolved_detect_arr[jj],\n",
    "                                                                 Ndouble_resolved_detect_arr[jj],Nquad_resolved_detect_arr[jj]]=get_res_unres_sys(LSST_mag_cut,im_sep_cut_i)\n",
    "    \n",
    "            "
   ]
  },
  {
   "cell_type": "code",
   "execution_count": 259,
   "metadata": {},
   "outputs": [
    {
     "name": "stdout",
     "output_type": "stream",
     "text": [
      "*** LSST i-band limiting mag=22.6 ***\n"
     ]
    },
    {
     "data": {
      "image/png": "[encoded data removed]",
      "text/plain": [
       "<Figure size 600x400 with 1 Axes>"
      ]
     },
     "metadata": {},
     "output_type": "display_data"
    },
    {
     "data": {
      "image/png": "[encoded data removed]",
      "text/plain": [
       "<Figure size 600x400 with 1 Axes>"
      ]
     },
     "metadata": {},
     "output_type": "display_data"
    }
   ],
   "source": [
    "print(\"*** LSST i-band limiting mag=%s ***\"%(LSST_mag_cut))\n",
    "plt.plot(LSST_im_sep_cut_arr,Ndouble_unresolved_detect_arr,label=r\"unresolved #of doubles\")\n",
    "plt.plot(LSST_im_sep_cut_arr,Ndouble_resolved_detect_arr,label=r\"resolved #of doubles\")\n",
    "plt.xlabel(r\"LSST angular resolution (arcsec)\")\n",
    "plt.legend(fontsize=14)\n",
    "plt.savefig('res-unres_doubles.png',dpi=600)\n",
    "plt.show()\n",
    "\n",
    "plt.plot(LSST_im_sep_cut_arr,Nquad_unresolved_detect_arr,label=r\"unresolved #of quads\")\n",
    "plt.plot(LSST_im_sep_cut_arr,Nquad_resolved_detect_arr,label=r\"resolved #of quads\")\n",
    "#plt.plot(LSST_im_sep_cut_arr,Nquad_unresolved_detect_arr+Nquad_resolved_detect_arr,label=r\"resolved #of doubles + quads\")\n",
    "\n",
    "plt.xlabel(r\"LSST angular resolution (arcsec)\")\n",
    "plt.legend(fontsize=14)\n",
    "plt.savefig('res-unres_quads.png',dpi=600)\n",
    "plt.show()"
   ]
  },
  {
   "cell_type": "code",
   "execution_count": 260,
   "metadata": {},
   "outputs": [
    {
     "data": {
      "text/plain": [
       "array([201., 204., 205., 206., 207., 210., 210., 212., 213., 216., 217.,\n",
       "       217., 218., 218., 222., 224., 224., 223., 225., 226., 229., 230.,\n",
       "       230., 231., 232., 233., 235., 236., 235., 236., 239., 242., 244.,\n",
       "       244., 246., 247., 248., 249., 252., 252., 253., 255., 255., 257.,\n",
       "       258., 259., 261., 263., 264., 265., 266., 267., 269., 269., 269.,\n",
       "       270., 270., 272., 272., 276., 277., 278., 280., 280., 281., 282.,\n",
       "       283., 283., 285., 286., 287.])"
      ]
     },
     "execution_count": 260,
     "metadata": {},
     "output_type": "execute_result"
    }
   ],
   "source": [
    "Nquad_unresolved_detect_arr+Nquad_resolved_detect_arr"
   ]
  },
  {
   "cell_type": "code",
   "execution_count": 261,
   "metadata": {},
   "outputs": [
    {
     "data": {
      "text/plain": [
       "(array([ 99., 102., 104., 108., 110., 114., 114., 118., 119., 123., 124.,\n",
       "        124., 125., 127., 131., 133., 133., 133., 135., 136., 140., 142.,\n",
       "        142., 143., 144., 146., 148., 149., 149., 151., 154., 157., 161.,\n",
       "        161., 163., 164., 167., 168., 171., 172., 173., 175., 175., 177.,\n",
       "        179., 180., 182., 184., 185., 186., 188., 189., 192., 192., 192.,\n",
       "        193., 195., 197., 199., 204., 206., 207., 209., 209., 210., 211.,\n",
       "        212., 214., 217., 218., 219.]),\n",
       " 0.75)"
      ]
     },
     "execution_count": 261,
     "metadata": {},
     "output_type": "execute_result"
    }
   ],
   "source": [
    "Nquad_unresolved_detect_arr,LSST_im_sep_cut_arr[-1]"
   ]
  },
  {
   "cell_type": "code",
   "execution_count": 262,
   "metadata": {},
   "outputs": [],
   "source": [
    "#==== tot maginification study ============"
   ]
  },
  {
   "cell_type": "code",
   "execution_count": 263,
   "metadata": {},
   "outputs": [
    {
     "name": "stdout",
     "output_type": "stream",
     "text": [
      "711\n",
      "[ 2.12460162  2.85826756  4.92726099 15.03191834 46.44545914]\n"
     ]
    },
    {
     "data": {
      "image/png": "[encoded data removed]",
      "text/plain": [
       "<Figure size 600x400 with 1 Axes>"
      ]
     },
     "metadata": {},
     "output_type": "display_data"
    }
   ],
   "source": [
    "\n",
    "all_unres_sysn=unres_doubles+unres_quads; print(len(all_unres_sysn))\n",
    "\n",
    "def get_magnifiction_from_mags(m1,m2):\n",
    "    f1=get_flux(m1);f2=get_flux(m2)\n",
    "    return f2/f1\n",
    "\n",
    "def plot_tot_mag():\n",
    "    tot_magnification_all,rough_tot_magnification_all=np.zeros(len(all_unres_sysn)),np.zeros(len(all_unres_sysn))\n",
    "    for isys,sysid in enumerate(all_unres_sysn):\n",
    "        unres_peak_res=get_unresolved_flux(sysid)\n",
    "        ids=np.where(sysn==sysid)[0];mus=magnification[ids];souce_mag=(s_mag_I[ids])[0]\n",
    "        unres_peak_mag=unres_peak_res[1]\n",
    "        tot_magnification=get_magnifiction_from_mags(souce_mag,unres_peak_mag)\n",
    "        rough_tot_magnification=np.sum(np.abs(mus))\n",
    "        #print(tot_magnification,rough_tot_magnification)\n",
    "        tot_magnification_all[isys]=tot_magnification\n",
    "        rough_tot_magnification_all[isys]=rough_tot_magnification\n",
    "\n",
    "    binsd=np.linspace(0,50,100)\n",
    "    plt.hist(tot_magnification_all,bins=binsd,cumulative=True,histtype='step',density=True,lw=2.0)\n",
    "    #plt.hist(rough_tot_magnification_all,bins=20,histtype='step')\n",
    "    plt.xlim([0,50])\n",
    "    plt.ylim([0,1])\n",
    "    plt.ylabel(r\"frac. of systems ($\\tilde{\\mu}_{\\rm tot}<\\tilde{\\mu}$)\")\n",
    "    plt.xlabel(r\"$\\tilde{\\mu}$\")\n",
    "    #plt.savefig(paper_out_dir+\"tot_magnification_dist.pdf\")\n",
    "    return tot_magnification_all\n",
    "tot_magnification_all=plot_tot_mag()\n",
    "print(np.percentile(tot_magnification_all,[2.5,16.0,50.0,84.0,97.5]))"
   ]
  },
  {
   "cell_type": "code",
   "execution_count": 264,
   "metadata": {},
   "outputs": [],
   "source": [
    "#new  microlesning implementation 4_24\n"
   ]
  },
  {
   "cell_type": "code",
   "execution_count": null,
   "metadata": {},
   "outputs": [],
   "source": []
  },
  {
   "cell_type": "code",
   "execution_count": 265,
   "metadata": {},
   "outputs": [
    {
     "name": "stdout",
     "output_type": "stream",
     "text": [
      "(250, 16)\n",
      "98 152\n",
      "87\n",
      "49 38\n"
     ]
    },
    {
     "data": {
      "image/png": "[encoded data removed]",
      "text/plain": [
       "<Figure size 600x400 with 1 Axes>"
      ]
     },
     "metadata": {},
     "output_type": "display_data"
    },
    {
     "data": {
      "image/png": "[encoded data removed]",
      "text/plain": [
       "<Figure size 600x400 with 1 Axes>"
      ]
     },
     "metadata": {},
     "output_type": "display_data"
    }
   ],
   "source": [
    "#stored ascii files\n",
    "all_good_downsampled_data=np.loadtxt(catalog_dir+'down_sampled_data/'+'All_good_downsample.txt')\n",
    "print(all_good_downsampled_data.shape)\n",
    "idx2=np.where(all_good_downsampled_data[:,1]==2)[0]\n",
    "idx4=np.where(all_good_downsampled_data[:,1]==4)[0]\n",
    "print(len(idx2/2),len(idx4/4))\n",
    "\n",
    "only_sysn_ni_data=np.loadtxt(catalog_dir+'down_sampled_data/'+'all_good_sys.txt')\n",
    "print(len(only_sysn_ni_data[:,0]))\n",
    "sysn_list_double=(only_sysn_ni_data[:,0])[only_sysn_ni_data[:,1]==2.]\n",
    "sysn_list_quad=(only_sysn_ni_data[:,0])[only_sysn_ni_data[:,1]==4.]\n",
    "print(len(sysn_list_double),len(sysn_list_quad))\n",
    "\n",
    "\n",
    "def plot_hist_percentage(data,xlabel=None,ylabel=None,histtyep='bar',bins=20, legend=None):\n",
    "    if legend:\n",
    "        plt.hist(data, weights=np.ones(len(data)) / len(data),histtype=histtyep,bins=bins,label=legend)\n",
    "    else:\n",
    "        plt.hist(data, weights=np.ones(len(data)) / len(data),histtype=histtyep,bins=bins)\n",
    "    if xlabel: \n",
    "        plt.xlabel(xlabel)\n",
    "    if ylabel: \n",
    "        plt.ylabel(ylabel)\n",
    "        \n",
    "#All LSST unres systems:\n",
    "all_lsst_unres_sys=np.loadtxt(catalog_dir+'Unresolved_LSNeIa_Imag_cut22.6_theta_cut0.5.txt')\n",
    "\n",
    "all_sysn,unique_id=np.unique(all_lsst_unres_sys[:,0],return_index=True)\n",
    "NIss=all_lsst_unres_sys[unique_id,1]\n",
    "\n",
    "all_double_list=np.unique((all_lsst_unres_sys[:,0])[all_lsst_unres_sys[:,1]==2])\n",
    "all_quad_list=np.unique((all_lsst_unres_sys[:,0])[all_lsst_unres_sys[:,1]==4])\n",
    "\n",
    "\n",
    "\n",
    "kappa_all,gamma_all,lens_z_all,s_z_all=all_lsst_unres_sys[:,2],all_lsst_unres_sys[:,3],all_lsst_unres_sys[:,5],all_lsst_unres_sys[:,4]\n",
    "simon_good_kappa,simon_good_gamma,simon_good_lens_z,simon_good_s_z=all_good_downsampled_data[:,2],all_good_downsampled_data[:,3],all_good_downsampled_data[:,5],all_good_downsampled_data[:,4]\n",
    "binsd=np.linspace(0,2,21)\n",
    "plot_hist_percentage(gamma_all,bins=binsd,histtyep='bar')\n",
    "plot_hist_percentage(simon_good_gamma,bins=binsd,histtyep='step')\n",
    "plt.show()\n",
    "plot_hist_percentage(lens_z_all,bins=binsd,histtyep='bar')\n",
    "plot_hist_percentage(simon_good_lens_z,bins=binsd,histtyep='step')"
   ]
  },
  {
   "cell_type": "code",
   "execution_count": 266,
   "metadata": {},
   "outputs": [
    {
     "data": {
      "image/png": "[encoded data removed]",
      "text/plain": [
       "<Figure size 600x400 with 1 Axes>"
      ]
     },
     "metadata": {},
     "output_type": "display_data"
    },
    {
     "data": {
      "image/png": "[encoded data removed]",
      "text/plain": [
       "<Figure size 600x400 with 1 Axes>"
      ]
     },
     "metadata": {},
     "output_type": "display_data"
    },
    {
     "data": {
      "image/png": "[encoded data removed]",
      "text/plain": [
       "<Figure size 600x400 with 1 Axes>"
      ]
     },
     "metadata": {},
     "output_type": "display_data"
    },
    {
     "data": {
      "image/png": "[encoded data removed]",
      "text/plain": [
       "<Figure size 600x400 with 1 Axes>"
      ]
     },
     "metadata": {},
     "output_type": "display_data"
    }
   ],
   "source": [
    "def get_mu_dt(sys_data):\n",
    "    dts_sys=sys_data[:,6]; idx=np.argsort(dts_sys);dts_sys=dts_sys[idx];dts_sys=(dts_sys-dts_sys[0])\n",
    "    mus_sys=np.abs(sys_data[:,7]);mus_sys=mus_sys[idx];mus_sys=mus_sys/mus_sys[0]\n",
    "    return dts_sys[1:],mus_sys[1:]\n",
    "\n",
    "def get_data_for_sysni(sysni,set_data):\n",
    "    idx=np.where(all_lsst_unres_sys[:,0]==sysni)[0]\n",
    "    if len(idx)>0:\n",
    "        return set_data[idx,:]\n",
    "    else:\n",
    "        raise ValueError('system %d not found'%(sysni))\n",
    "        \n",
    "mus_list=[];dts_list=[]\n",
    "mus_list_simon_good=[];dts_list_simon_good=[]\n",
    "\n",
    "all_double_list=np.unique((all_lsst_unres_sys[:,0])[all_lsst_unres_sys[:,1]==2])\n",
    "all_quad_list=np.unique((all_lsst_unres_sys[:,0])[all_lsst_unres_sys[:,1]==4])\n",
    "\n",
    "for ii,sysni in enumerate(all_double_list):\n",
    "    sysni_data= get_data_for_sysni(sysni,all_lsst_unres_sys)\n",
    "    dts_sysni,mus_sysni=get_mu_dt(sysni_data);mus_list.extend(mus_sysni);dts_list.extend(dts_sysni)\n",
    "\n",
    "#simon good simulated list\n",
    "for ii,sysni in enumerate(sysn_list_double):\n",
    "    sysni_data= get_data_for_sysni(sysni,all_lsst_unres_sys)\n",
    "    dts_sysni,mus_sysni=get_mu_dt(sysni_data);mus_list_simon_good.extend(mus_sysni);dts_list_simon_good.extend(dts_sysni)\n",
    "    \n",
    "binsd=np.linspace(0,15,51)\n",
    "plot_hist_percentage(dts_list,bins=binsd,histtyep='bar')\n",
    "plot_hist_percentage(dts_list_simon_good,bins=binsd,histtyep='step')\n",
    "plt.show()\n",
    "\n",
    "plt.hist(dts_list,cumulative=True,histtype='step',density=True,bins=binsd)\n",
    "plt.hist(dts_list_simon_good,cumulative=True,histtype='step',density=True,bins=binsd)\n",
    "plt.show()\n",
    "\n",
    "for ii,sysni in enumerate(all_quad_list):\n",
    "    sysni_data= get_data_for_sysni(sysni,all_lsst_unres_sys)\n",
    "    dts_sysni,mus_sysni=get_mu_dt(sysni_data);mus_list.extend(mus_sysni);dts_list.extend(dts_sysni)\n",
    "#simon good simulated list\n",
    "for ii,sysni in enumerate(sysn_list_quad):\n",
    "    sysni_data= get_data_for_sysni(sysni,all_lsst_unres_sys)\n",
    "    dts_sysni,mus_sysni=get_mu_dt(sysni_data);mus_list_simon_good.extend(mus_sysni);dts_list_simon_good.extend(dts_sysni)\n",
    "    \n",
    "binsd=np.linspace(0,15,51)\n",
    "plot_hist_percentage(dts_list,bins=binsd,histtyep='bar')\n",
    "plot_hist_percentage(dts_list_simon_good,bins=binsd,histtyep='step')\n",
    "plt.show()\n",
    "plt.hist(dts_list,cumulative=True,histtype='step',density=True,bins=binsd)\n",
    "plt.hist(dts_list_simon_good,cumulative=True,histtype='step',density=True,bins=binsd)\n",
    "plt.show()\n",
    "    "
   ]
  },
  {
   "cell_type": "code",
   "execution_count": 267,
   "metadata": {},
   "outputs": [],
   "source": [
    "micro_mag_dir='./save_micro_mag_res/'\n",
    "all_ml_sys=only_sysn_ni_data[:,0]#np.hstack((sysn_list_double,sysn_list_quad));print(len(all_ml_sys))\n",
    "modelname,band='ww','i'\n",
    "micro_mag_dist_dict={}\n",
    "\n",
    "for ii, sysni in enumerate(all_ml_sys):\n",
    "    ni_sys=only_sysn_ni_data[ii,1].astype('int')\n",
    "    for imi in range(ni_sys):\n",
    "        key_name='sysn%d_im%d'%(sysni,imi)\n",
    "        fmicro=micro_mag_dir+'sysn%d_im%d_model_%s_band_%s.txt'%(sysni,imi+1,modelname,band)\n",
    "        micro_mag_dist=np.loadtxt(fmicro)\n",
    "        micro_mag_dist_dict[key_name]=micro_mag_dist\n",
    "with open(micro_mag_dir+'all_micro_mag_dist_model_%s_band_%s'%(modelname,band), 'wb') as f:\n",
    "    pickle.dump(micro_mag_dist_dict, f)    "
   ]
  },
  {
   "cell_type": "code",
   "execution_count": 268,
   "metadata": {},
   "outputs": [],
   "source": [
    "def get_nearest_neighbour(data1,data2):\n",
    "    k1,g1,sz1,lz1=data1\n",
    "    k2,g2,sz2,lz2=data2\n",
    "    kg_dist=np.sqrt((k2-k1)**2+(g2-g1)**2)\n",
    "    ls_z_dist=np.sqrt((sz2-sz1)**2+(lz2-lz1)**2)\n",
    "    return np.sum(kg_dist),np.sum(ls_z_dist)\n",
    "\n",
    "def get_data_for_sysni(sysni,set_data):\n",
    "    idx=np.where(set_data[:,0]==sysni)[0]\n",
    "    if len(idx)>0:\n",
    "        return set_data[idx,:]\n",
    "    else:\n",
    "        #print('bad',sysni)\n",
    "        raise ValueError('system %d not found'%(sysni[0]))\n",
    "\n",
    "def find_best_matching_sys_id(dist_data):\n",
    "    sys_id1=np.argmin(dist_data[:,0]**2+dist_data[:,1]**2)\n",
    "    sys_id2=np.argmin(dist_data[:,0])\n",
    "    sys_id3=np.argmin(dist_data[:,1])\n",
    "    return sys_id1,sys_id2,sys_id3\n",
    "def get_simon_good_sys_id(sysni,set_data,set_data_relevant_ids=np.arange(2,6)):\n",
    "#     if sysni in only_sysn_ni_data[:,0]:\n",
    "#         return sysni\n",
    "    sysni_data= get_data_for_sysni(sysni,set_data)\n",
    "    ki,gi,s_zi,l_zi=sysni_data[:,set_data_relevant_ids[0]],sysni_data[:,set_data_relevant_ids[1]],sysni_data[:,set_data_relevant_ids[2]],sysni_data[:,set_data_relevant_ids[3]]\n",
    "    datai=ki,gi,s_zi,l_zi\n",
    "    NIi=len(ki); print(NIi)\n",
    "    \n",
    "    if NIi==2:\n",
    "        serach_list=sysn_list_double\n",
    "    elif NIi==4:\n",
    "        serach_list=sysn_list_quad\n",
    "    else:\n",
    "        raise ValueError('NI=',NIi,'sysni=',sysni)\n",
    "    Nj=len(serach_list)\n",
    "    dist_data=np.zeros((Nj,2))\n",
    "    for jj,sysnj in enumerate(serach_list):\n",
    "        sysnj_data= get_data_for_sysni(sysnj,all_good_downsampled_data)\n",
    "        kj,gj,s_zj,l_zj=sysnj_data[:,2],sysnj_data[:,3],sysnj_data[:,4],sysnj_data[:,5]\n",
    "        dataj=kj,gj,s_zj,l_zj\n",
    "        kg_dist,ls_z_dist=get_nearest_neighbour(datai,dataj)\n",
    "        #print(jj,kg_dist,ls_z_dist)\n",
    "        dist_data[jj,:]=kg_dist,ls_z_dist\n",
    "    #print('dist_data',dist_data)\n",
    "    sys_id1,sys_id2,sys_id3=find_best_matching_sys_id(dist_data)\n",
    "    print('best matching systems',serach_list[sys_id1],serach_list[sys_id2],serach_list[sys_id3])\n",
    "    print('dustances-->',dist_data[sys_id1],dist_data[sys_id2],dist_data[sys_id3],'\\n\\n')\n",
    "    print('(target) i sys->',ki,gi,s_zi,l_zi)\n",
    "    sysnj_found_data= get_data_for_sysni(serach_list[sys_id1],all_good_downsampled_data)\n",
    "    kj,gj,s_zj,l_zj=sysnj_found_data[:,2],sysnj_found_data[:,3],sysnj_found_data[:,4],sysnj_found_data[:,5]\n",
    "    print('(found) i sys->',kj,gj,s_zj,l_zj)\n",
    "    print('\\n\\n\\n')\n",
    "    #print(serach_list)\n",
    "    return serach_list[sys_id1]\n",
    "    \n",
    "#sysnj=get_simon_good_sys_id(sysni,all_lsst_unres_sys)\n"
   ]
  },
  {
   "cell_type": "code",
   "execution_count": 269,
   "metadata": {},
   "outputs": [],
   "source": [
    "\n",
    "#loop through all (doubles+quads) SNeIa\n",
    "target_sysn_for_micro=np.zeros(len(Unique_sysn))\n",
    "\n",
    "original_stdout = sys.stdout\n",
    "\n",
    "sys.stdout = open(os.devnull, 'w')\n",
    "for ii,unique_sysn_i in enumerate(Unique_sysn): \n",
    "    target_sysn_for_micro[ii]=get_simon_good_sys_id(unique_sysn_i,data_cols,[7,8,3,4])\n",
    "sys.stdout.close()\n",
    "sys.stdout = original_stdout"
   ]
  },
  {
   "cell_type": "code",
   "execution_count": 270,
   "metadata": {},
   "outputs": [
    {
     "data": {
      "text/plain": [
       "(array([21758.]), 21758.0)"
      ]
     },
     "execution_count": 270,
     "metadata": {},
     "output_type": "execute_result"
    }
   ],
   "source": [
    "target_sysn_for_micro[Unique_sysn==all_ml_sys[-24]],all_ml_sys[-24]"
   ]
  },
  {
   "cell_type": "code",
   "execution_count": 271,
   "metadata": {},
   "outputs": [],
   "source": [
    "def get_unresolved_peak_mag2(z,mus,dts,smag,micro_mags):\n",
    "#     if dts[0]!=0:\n",
    "#         print('dts not in proper form..exiting')\n",
    "#         #sys.exit()\n",
    "    Ntt=150\n",
    "    t=np.linspace(0,150,Ntt)\n",
    "    f0c=get_flux(smag)\n",
    "    flux=get_lc_hsiao(t,z)\n",
    "    flux=f0c*flux/flux.max()\n",
    "    flux_interp=get_interp(t,flux)\n",
    "    mag_peak_list=[]\n",
    "    flux_arr=np.zeros((len(mus),Ntt))\n",
    "    \n",
    "    kk=0\n",
    "    for mu,dt in zip(mus,dts):\n",
    "        flux_arr[kk]=mu*flux_interp(t-dt)\n",
    "        kk+=1\n",
    "    for jj in range(Nmicro):\n",
    "        flux_arr_jj=(micro_mags[jj])[:,np.newaxis]*flux_arr\n",
    "        unres_flux_jj=np.sum(flux_arr_jj,axis=0)\n",
    "        mag_peak_list.append(get_mag(unres_flux_jj.max()))\n",
    "    \n",
    "    \n",
    "#     for jj in range(Nmicro):\n",
    "#         flux=np.zeros(len(t))\n",
    "#         for mu,dt in zip(macro_micro_mags[jj],dts):\n",
    "#             flux=flux+mu*flux_interp(t-dt)\n",
    "#         mag_peak_list.append(get_mag(flux.max()))\n",
    "    return np.array(mag_peak_list)\n",
    "\n",
    "def get_Nmciro_micro_magnifications(target_sys,NI_sys_check,Nmicro):\n",
    "    ret=np.zeros((Nmicro,NI_sys_check))\n",
    "    for imi in range(NI_sys_check):\n",
    "        key_name='sysn%d_im%d'%(target_sys,imi)\n",
    "        micro_mag_dist=micro_mag_dist_dict[key_name];micro_mag_dist= micro_mag_dist/np.mean(micro_mag_dist)\n",
    "        ret[:,imi]=np.random.choice(micro_mag_dist,Nmicro, replace=False)\n",
    "    return ret\n",
    "\n",
    "def get_unresolved_flux2(sysn_check):\n",
    "    #print('entered')\n",
    "    ids=np.where(sysn==sysn_check)[0]; NI_sys_check=len(ids)\n",
    "    if NI_sys_check not in [2,4]:\n",
    "        raise ValueError('something went wrong, NI=',NI_sys_check)\n",
    "    mus=np.abs(magnification[ids])\n",
    "    #print('sata',ids)\n",
    "    souce_mags=s_mag_I[ids]#-mag_deviation[ids]\n",
    "    source_fluxes=get_flux(souce_mags)\n",
    "    magnified_fluexs=source_fluxes*np.abs(mus)\n",
    "    \n",
    "    target_sys=target_sysn_for_micro[Unique_sysn==sysn_check]\n",
    "\n",
    "    \n",
    "    \n",
    "    #micro_magni_sam=get_micro_peak_magni_dist(inv_cdf_magni_interp,N=(Nmicro,len(mus)))\n",
    "    micro_magni_sam=get_Nmciro_micro_magnifications(target_sys,NI_sys_check,Nmicro)\n",
    "    #micro_magni_sam=np.clip(np.random.normal(1.0,0.5,(Nmicro,NI_sys_check)),0.01,None)#np.ones((Nmicro,NI_sys_check))\n",
    "#     print(micro_magni_sam,micro_magni_sam1)\n",
    "#     print(micro_magni_sam.shape,micro_magni_sam1.shape)\n",
    "#     print(np.mean(micro_magni_sam),np.mean(micro_magni_sam1))\n",
    "#     print(np.median(micro_magni_sam),np.median(micro_magni_sam1))\n",
    "    macro_micro_mags=mus[np.newaxis,:]*micro_magni_sam\n",
    "\n",
    "    \n",
    "    macro_micro_image_mags=source_fluxes[np.newaxis,:]*macro_micro_mags\n",
    "    \n",
    "    rough_unresolved_flux=np.sum(macro_micro_image_mags,axis=1)\n",
    "    rough_unresolved_mag=get_mag(rough_unresolved_flux)\n",
    "    image_mags=get_mag(-np.sort(-macro_micro_image_mags,axis=1))\n",
    "    #print(image_mags.shape)\n",
    "\n",
    "    #print(source_fluxes)\n",
    "    #print(mus)\n",
    "    #print(get_mag(source_fluxes*np.abs(mus)))\n",
    "    #return souce_mags,rough_unresolved_flux,rough_unresolved_mag,second_brightest_mag\n",
    "    z=(s_z[ids])[0];dts=td[ids]; #dts=[0,0]\n",
    "    #print(souce_mags,np.abs(mus),dts)\n",
    "    unresolved_peak_mag=get_unresolved_peak_mag2(z,mus,dts,souce_mags[0],micro_magni_sam)\n",
    "    \n",
    "    #print(mus,dts)\n",
    "    \n",
    "    \n",
    "    if len(mus)==2:\n",
    "        return np.c_[rough_unresolved_mag,unresolved_peak_mag,image_mags[:,1]]\n",
    "    else:\n",
    "        ret=np.zeros((Nmicro,2+len(mus)))\n",
    "        ret[:,0]=rough_unresolved_mag\n",
    "        ret[:,1]=unresolved_peak_mag\n",
    "        ret[:,2:]=image_mags\n",
    "        return ret"
   ]
  },
  {
   "cell_type": "code",
   "execution_count": 272,
   "metadata": {},
   "outputs": [
    {
     "name": "stderr",
     "output_type": "stream",
     "text": [
      "/tmp/ipykernel_4034426/604515363.py:34: DeprecationWarning: Conversion of an array with ndim > 0 to a scalar is deprecated, and will error in future. Ensure you extract a single element from your array before performing this operation. (Deprecated NumPy 1.25.)\n",
      "  key_name='sysn%d_im%d'%(target_sys,imi)\n"
     ]
    },
    {
     "name": "stdout",
     "output_type": "stream",
     "text": [
      "elasped time= 82.06037449836731\n"
     ]
    }
   ],
   "source": [
    "Nmicro=100\n",
    "\n",
    "time1=time.time()\n",
    "\n",
    "double_sysn=Unique_sysn[idx_im2]\n",
    "quad_sysn=Unique_sysn[idx_im4]\n",
    "\n",
    "double_unres_secondBrightest_mag2=np.full((Nmicro*len(idx_im2),3),np.nan)\n",
    "quad_unres_secondBrightest_mag2=np.full((Nmicro*len(idx_im4),6),np.nan)\n",
    "\n",
    "for ii,sysi in enumerate(double_sysn):\n",
    "    double_unres_secondBrightest_mag2[Nmicro*ii:Nmicro*(ii+1)]=get_unresolved_flux2(sysi)\n",
    "    \n",
    "for ii,sysi in enumerate(quad_sysn):\n",
    "    quad_unres_secondBrightest_mag2[Nmicro*ii:Nmicro*(ii+1)]=get_unresolved_flux2(sysi)\n",
    "print(\"elasped time=\",time.time()-time1)"
   ]
  },
  {
   "cell_type": "code",
   "execution_count": null,
   "metadata": {},
   "outputs": [],
   "source": [
    "%%time\n",
    "def get_res_unres_sys2(LSST_mag_cut,im_sep_cut,dummy_data):\n",
    "    double_unres_secondBrightest_mag,quad_unres_secondBrightest_mag=dummy_data\n",
    "    Ndouble_resolved_detect=0\n",
    "    Ndouble_unresolved_detect=0\n",
    "    Nquad_resolved_detect=0\n",
    "    Nquad_unresolved_detect=0\n",
    "    unres_doubles=[]\n",
    "    unres_quads=[]\n",
    "    res_doubles=[]\n",
    "    res_quads=[]\n",
    "    \n",
    "    for ii,sysi in enumerate(double_sysn):\n",
    "        for jj in range(Nmicro):\n",
    "            t0,t1,t2=double_unres_secondBrightest_mag[ii*Nmicro+jj]\n",
    "            if t1<=LSST_mag_cut and im_sep2[ii]<=im_sep_cut:\n",
    "                Ndouble_unresolved_detect+=1\n",
    "                unres_doubles.append(sysi)\n",
    "            elif t2<=LSST_mag_cut and im_sep2[ii]>im_sep_cut:\n",
    "                Ndouble_resolved_detect+=1\n",
    "                res_doubles.append(sysi)\n",
    "    for ii,sysi in enumerate(quad_sysn):\n",
    "        for jj in range(Nmicro):\n",
    "            if (quad_unres_secondBrightest_mag[ii*Nmicro+jj])[1]<=LSST_mag_cut and im_sep4[ii]<=im_sep_cut:\n",
    "                Nquad_unresolved_detect+=1\n",
    "                unres_quads.append(sysi)\n",
    "\n",
    "            elif quad_find_if_res_or_unres(sysi,quad_unres_secondBrightest_mag[ii*Nmicro+jj],LSST_mag_cut,im_sep_cut):\n",
    "                Nquad_resolved_detect+=1\n",
    "                res_quads.append(sysi)\n",
    "            \n",
    "    return [unres_doubles,unres_quads,res_doubles,res_quads],[Ndouble_unresolved_detect,Nquad_unresolved_detect,\n",
    "                                                                 Ndouble_resolved_detect,Nquad_resolved_detect]\n",
    "\n",
    "\n",
    "dummy_data=double_unres_secondBrightest_mag2,quad_unres_secondBrightest_mag2\n",
    "\n",
    "LSST_mag_cut=22.6\n",
    "NLSST_theta=71\n",
    "LSST_im_sep_cut_arr=np.linspace(0.4,0.75,NLSST_theta);\n",
    "Ndouble_resolved_detect_arr2=np.zeros(NLSST_theta)\n",
    "Ndouble_unresolved_detect_arr2=np.zeros(NLSST_theta)\n",
    "Nquad_resolved_detect_arr2=np.zeros(NLSST_theta)\n",
    "Nquad_unresolved_detect_arr2=np.zeros(NLSST_theta)\n",
    "\n",
    "for jj,im_sep_cut_i in enumerate(LSST_im_sep_cut_arr):\n",
    "    unres_res_sys_data2,[Ndouble_unresolved_detect_arr2[jj],Nquad_unresolved_detect_arr2[jj],\n",
    "                                                                 Ndouble_resolved_detect_arr2[jj],Nquad_resolved_detect_arr2[jj]]=get_res_unres_sys2(LSST_mag_cut,im_sep_cut_i,dummy_data)"
   ]
  },
  {
   "cell_type": "code",
   "execution_count": null,
   "metadata": {},
   "outputs": [],
   "source": [
    "def has_nan(arr):\n",
    "    return np.isnan(arr).any()\n",
    "has_nan(quad_unres_secondBrightest_mag2),has_nan(double_unres_secondBrightest_mag2)"
   ]
  },
  {
   "cell_type": "code",
   "execution_count": null,
   "metadata": {},
   "outputs": [],
   "source": [
    "print(\" *** Definition of resolved: any two images: (i) separation > theta_th, (ii) brighter than LSST limiting mag\")\n",
    "\n",
    "print(\"\\n *** Definition of unresolved: (i) max sepration < theta_th and (ii) combined flux brighter than LSST limiting mag\\n\")\n",
    "print(\"*** LSST i-band limiting mag=%s ***\"%(LSST_mag_cut))\n",
    "plt.plot(LSST_im_sep_cut_arr,Ndouble_unresolved_detect_arr2/Nmicro,label=r\"unresolved #of doubles\")\n",
    "plt.plot(LSST_im_sep_cut_arr,Ndouble_unresolved_detect_arr,c=clrs[0],ls='--')\n",
    "plt.plot(LSST_im_sep_cut_arr,Ndouble_resolved_detect_arr2/Nmicro,c=clrs[1],label=r\"resolved #of doubles\")\n",
    "plt.plot(LSST_im_sep_cut_arr,Ndouble_resolved_detect_arr,c=clrs[1],ls='--')\n",
    "plt.xlabel(r\"LSST angular resolution (arcsec)\")\n",
    "plt.legend(fontsize=14)\n",
    "plt.show()\n",
    "\n",
    "plt.plot(LSST_im_sep_cut_arr,Nquad_unresolved_detect_arr2/Nmicro,c=clrs[0],label=r\"unresolved #of quads\")\n",
    "plt.plot(LSST_im_sep_cut_arr,Nquad_unresolved_detect_arr,c=clrs[0],ls='--')\n",
    "plt.plot(LSST_im_sep_cut_arr,Nquad_resolved_detect_arr2/Nmicro,c=clrs[1],label=r\"resolved #of quads\")\n",
    "plt.plot(LSST_im_sep_cut_arr,Nquad_resolved_detect_arr,c=clrs[1],ls='--')\n",
    "#plt.plot(LSST_im_sep_cut_arr,(Nquad_unresolved_detect_arr2+Nquad_resolved_detect_arr2)/Nmicro,label=r\"resolved #of doubles + quads\")\n",
    "\n",
    "plt.xlabel(r\"LSST angular resolution (arcsec)\")\n",
    "plt.legend(fontsize=14)\n",
    "print(\"solid (dashed) = with (without) microlensing\")\n",
    "plt.show()"
   ]
  },
  {
   "cell_type": "code",
   "execution_count": null,
   "metadata": {},
   "outputs": [],
   "source": [
    "len(Ndouble_unresolved_detect_arr)"
   ]
  },
  {
   "cell_type": "code",
   "execution_count": null,
   "metadata": {},
   "outputs": [],
   "source": [
    "#total:\n",
    "plt.rcParams['legend.title_fontsize'] = 13\n",
    "N_unres_ml=(Ndouble_unresolved_detect_arr2+Nquad_unresolved_detect_arr2)/Nmicro\n",
    "N_res_ml=(Ndouble_resolved_detect_arr2+Nquad_resolved_detect_arr2)/Nmicro\n",
    "\n",
    "N_unres=(Ndouble_unresolved_detect_arr+Nquad_unresolved_detect_arr)\n",
    "N_res=(Ndouble_resolved_detect_arr+Nquad_resolved_detect_arr)\n",
    "\n",
    "plt.plot(LSST_im_sep_cut_arr,N_unres,c=clrs[0],label=r\"unresolved\")\n",
    "plt.plot(LSST_im_sep_cut_arr,N_unres_ml,c=clrs[0],ls='--')\n",
    "\n",
    "plt.plot(LSST_im_sep_cut_arr,N_res,c=clrs[1],label=r\"resolved\")\n",
    "plt.plot(LSST_im_sep_cut_arr,N_res_ml,c=clrs[1],ls='--')\n",
    "\n",
    "#plt.plot(LSST_im_sep_cut_arr,(Nquad_unresolved_detect_arr2+Nquad_resolved_detect_arr2)/Nmicro,label=r\"resolved #of doubles + quads\")\n",
    "\n",
    "\n",
    "print(\"solid (dashed) = with (without) microlensing\")\n",
    "\n",
    "theta_psf=0.75; res_theta=2*theta_psf/3.0\n",
    "plt.scatter([res_theta,],[711])\n",
    "plt.scatter([res_theta,],[278])\n",
    "y1,y2=plt.ylim()\n",
    "plt.plot([res_theta,res_theta],[y1,y2],ls=\"--\",c=\"k\",lw=2.0,alpha=0.5)\n",
    "\n",
    "plt.xlabel(r\"$\\theta_{\\rm crit}$ (arcsec)\")\n",
    "plt.ylabel(\"No. of lensed SNe1A\")\n",
    "#plt.legend(title=r\"i-band observation\" +\"\\n\"+r\"resolved: $\\theta_{sep}$ > $\\theta_{th}$\",fontsize=12)\n",
    "plt.legend(fontsize=12)\n",
    "\n",
    "#plt.xlim([0.4,0.6])\n",
    "plt.ylim([175,900])\n",
    "\n",
    "ax=plt.gca()\n",
    "#plt.text(0.18,0.7,r\"$(2/3)\\theta_{\\rm psf}$\",rotation=90, transform=ax.transAxes,fontsize=12)\n",
    "plt.text(0.52,0.35,r\"$\\theta_{th}\\sim (2/3)\\theta_{\\rm psf}$\",rotation=90, transform=ax.transAxes,fontsize=11)\n",
    "ax.set_xticks([0.4,0.45,0.5,0.55,0.6])\n",
    "\n",
    "\n",
    "#plt.title(r\"LSST 10 year observation\")\n",
    "#plt.savefig('res_unres2.png',dpi=1000, transparent=True)\n",
    "#plt.savefig(paper_out_dir+'res_unres.pdf')\n",
    "\n",
    "plt.show()"
   ]
  },
  {
   "cell_type": "code",
   "execution_count": null,
   "metadata": {},
   "outputs": [],
   "source": [
    "#total:\n",
    "obs_factor=0.1\n",
    "plt.rcParams['legend.title_fontsize'] = 13\n",
    "N_unres_ml=(Ndouble_unresolved_detect_arr2+Nquad_unresolved_detect_arr2)/Nmicro\n",
    "N_res_ml=(Ndouble_resolved_detect_arr2+Nquad_resolved_detect_arr2)/Nmicro\n",
    "\n",
    "N_unres=(Ndouble_unresolved_detect_arr+Nquad_unresolved_detect_arr)\n",
    "N_res=(Ndouble_resolved_detect_arr+Nquad_resolved_detect_arr)\n",
    "\n",
    "plt.plot(LSST_im_sep_cut_arr,obs_factor*N_unres,c=clrs[0],label=r\"unresolved\",lw=2.0)\n",
    "plt.plot(LSST_im_sep_cut_arr,obs_factor*N_unres_ml,c=clrs[0],ls='--',lw=2.0)\n",
    "\n",
    "plt.plot(LSST_im_sep_cut_arr,obs_factor*N_res,c=clrs[1],label=r\"resolved\",lw=2.0)\n",
    "plt.plot(LSST_im_sep_cut_arr,obs_factor*N_res_ml,c=clrs[1],ls='--',lw=2.0)\n",
    "\n",
    "#plt.plot(LSST_im_sep_cut_arr,(Nquad_unresolved_detect_arr2+Nquad_resolved_detect_arr2)/Nmicro,label=r\"resolved #of doubles + quads\")\n",
    "\n",
    "\n",
    "print(\"solid (dashed) = with (without) microlensing\")\n",
    "\n",
    "theta_psf=0.75; res_theta=2*theta_psf/3.0\n",
    "plt.scatter([res_theta,],[711*obs_factor])\n",
    "plt.scatter([res_theta,],[278*obs_factor])\n",
    "y1,y2=plt.ylim()\n",
    "plt.plot([res_theta,res_theta],[y1,y2],ls=\"--\",c=\"k\",lw=2.0,alpha=0.5)\n",
    "\n",
    "plt.xlabel(r\"$\\theta_{\\rm crit}$ (arcsec)\")\n",
    "plt.ylabel(\"No. of lensed SNe Ia\")\n",
    "#plt.legend(title=r\"i-band observation\" +\"\\n\"+r\"resolved: $\\theta_{sep}$ > $\\theta_{th}$\",fontsize=12)\n",
    "plt.legend(fontsize=12)\n",
    "\n",
    "plt.xlim([0.4,0.6])\n",
    "plt.ylim([15,90])\n",
    "\n",
    "ax=plt.gca()\n",
    "#plt.text(0.18,0.7,r\"$(2/3)\\theta_{\\rm psf}$\",rotation=90, transform=ax.transAxes,fontsize=12)\n",
    "plt.text(0.52,0.35,r\"$\\theta_{th}\\sim (2/3)\\theta_{\\rm psf}$\",rotation=90, transform=ax.transAxes,fontsize=11)\n",
    "ax.set_xticks([0.4,0.45,0.5,0.55,0.6])\n",
    "\n",
    "\n",
    "#plt.title(r\"LSST 10 year observation\")\n",
    "\n",
    "#plt.savefig(paper_out_dir+'New_res_unres11.pdf')\n",
    "\n",
    "plt.legend(fontsize=12)\n",
    "#plt.savefig('res_unres311.png',dpi=1000, transparent=True)\n",
    "\n",
    "plt.show()"
   ]
  },
  {
   "cell_type": "code",
   "execution_count": null,
   "metadata": {},
   "outputs": [],
   "source": [
    "N_res[LSST_im_sep_cut_arr==0.5],N_res_ml[LSST_im_sep_cut_arr==0.5],N_unres[LSST_im_sep_cut_arr==0.5],N_unres_ml[LSST_im_sep_cut_arr==0.5]"
   ]
  },
  {
   "cell_type": "code",
   "execution_count": null,
   "metadata": {},
   "outputs": [],
   "source": [
    "#=========== end using micro lensing realisations =============================="
   ]
  },
  {
   "cell_type": "code",
   "execution_count": null,
   "metadata": {},
   "outputs": [],
   "source": []
  },
  {
   "cell_type": "code",
   "execution_count": null,
   "metadata": {},
   "outputs": [],
   "source": [
    "#kappa.gamma to magnification:\n",
    "def get_magnification_from_kappa_gamma(kappa,gamma):\n",
    "    return (1.0/((1.0-kappa)**2-gamma**2))\n",
    "\n",
    "k_vals=np.linspace(0, 3.2, 100)\n",
    "g_vals=np.linspace(0, 3.2, 100)\n",
    "k_grid,g_grid=np.meshgrid(k_vals, g_vals)\n",
    "magnification_grid = np.log10(np.abs(get_magnification_from_kappa_gamma(k_grid,g_grid)))\n",
    "\n",
    "plt.pcolormesh(k_grid,g_grid, magnification_grid, shading='auto', cmap='plasma',vmin=-1.0, vmax=1.0)\n",
    "plt.colorbar(label=r'$\\log_{10}(|\\mu (\\kappa, \\gamma)|)$')  # Add a colorbar to the plot\n",
    "\n",
    "plt.xlabel(r'$\\kappa$')\n",
    "plt.ylabel(r'$\\gamma$')\n",
    "#plt.title('2D Color Plot of f(x, y)')\n",
    "# corner.hist2d(kappa[idx_unres],gamma[idx_unres], bins=40, \n",
    "#               range=[[0,3.2],[0,3.2]],levels=(0.95,), smooth=1.4, ax=None, color=None, \n",
    "#               quiet=False, plot_datapoints=False, plot_density=False, plot_contours=True, \n",
    "#               no_fill_contours=True, fill_contours=False)\n",
    "\n",
    "plt.plot([0,3.2],[0,3.2],ls=\"--\",c=\"k\")\n",
    "print(get_magnification_from_kappa_gamma(np.array([0.0,0.3,1.0,1.5,2.0]),np.array([0.0,0.3,1.0,1.5,2.0])))\n",
    "plt.show()"
   ]
  },
  {
   "cell_type": "code",
   "execution_count": null,
   "metadata": {},
   "outputs": [],
   "source": [
    "def plot_hist_percentage(data,xlabel=None,ylabel=None,histtyep='bar',bins=20, legend=None):\n",
    "    if legend:\n",
    "        plt.hist(data, weights=np.ones(len(data)) / len(data),histtype=histtyep,bins=bins,label=legend)\n",
    "    else:\n",
    "        plt.hist(data, weights=np.ones(len(data)) / len(data),histtype=histtyep,bins=bins)\n",
    "    if xlabel: \n",
    "        plt.xlabel(xlabel)\n",
    "    if ylabel: \n",
    "        plt.ylabel(ylabel)\n",
    "        "
   ]
  },
  {
   "cell_type": "code",
   "execution_count": null,
   "metadata": {},
   "outputs": [],
   "source": [
    "def overplot_magnification_map_k_g(res_sam,unres_sam,labels =[r\"$\\kappa$\",r\"$\\gamma$\"],plot_range=[[0,3.2],[0,3.2]],savename=None, plot_ds=None):\n",
    "    Nbin_cm=100\n",
    "    k_vals=np.linspace(plot_range[0][0],plot_range[0][1], Nbin_cm)\n",
    "    g_vals=np.linspace(plot_range[0][0],plot_range[0][1], Nbin_cm)\n",
    "    k_grid,g_grid=np.meshgrid(k_vals, g_vals)\n",
    "    magnification_grid = np.log10(np.abs(get_magnification_from_kappa_gamma(k_grid,g_grid)))\n",
    "\n",
    "    plt.pcolormesh(k_grid,g_grid, magnification_grid, shading='auto', cmap='plasma',vmin=-1.0, vmax=1.0)\n",
    "    plt.colorbar(label=r'$\\log_{10}(|\\tilde{\\mu} (\\kappa, \\gamma)|)$')  # Add a colorbar to the plot\n",
    "\n",
    "    plt.xlabel(r'$\\kappa$')\n",
    "    plt.ylabel(r'$\\gamma$')\n",
    "    #plt.title('2D Color Plot of f(x, y)')\n",
    "    corner.hist2d(unres_sam[:,0],unres_sam[:,1], bins=30, \n",
    "                  range=plot_range,levels=(0.95,), smooth=0.5, ax=None, color=clrs[0], \n",
    "                  quiet=False, plot_datapoints=False, plot_density=False, plot_contours=True, \n",
    "                  no_fill_contours=True, fill_contours=False)\n",
    "    corner.hist2d(res_sam[:,0],res_sam[:,1], bins=30, \n",
    "                  range=plot_range,levels=(0.95,), smooth=0.5, ax=None, color=clrs[1], \n",
    "                  quiet=False, plot_datapoints=False, plot_density=False, plot_contours=True, \n",
    "                  no_fill_contours=True, fill_contours=False)\n",
    "\n",
    "    plt.plot(plot_range[0],plot_range[0],ls=\"--\",c=\"k\")\n",
    "    if plot_ds:\n",
    "        iidx2=np.where(all_good_downsampled_data[:,1]==2)[0]\n",
    "        iidx2=np.where(all_good_downsampled_data[:,1]==2)[0]\n",
    "        plt.scatter(all_good_downsampled_data[idx2,2],all_good_downsampled_data[idx2,3],c=clrs[2],marker='o',s=6.0)\n",
    "        plt.scatter(all_good_downsampled_data[idx4,2],all_good_downsampled_data[idx4,3],c=clrs[3],marker='s',s=5.0,alpha=0.75)\n",
    "        #plt.xlabel(r\"$\\kappa$\");plt.xlabel(r\"$\\gamma$\")\n",
    "    if savename:\n",
    "        plt.savefig(out_dir+savename+'.png',dpi=1200,transparent=True)\n",
    "        plt.savefig(paper_out_dir+savename+'.pdf')\n",
    "    plt.show()"
   ]
  },
  {
   "cell_type": "code",
   "execution_count": null,
   "metadata": {},
   "outputs": [],
   "source": [
    "all_good_downsampled_data"
   ]
  },
  {
   "cell_type": "code",
   "execution_count": null,
   "metadata": {},
   "outputs": [],
   "source": [
    "CORNER_KWARGS = dict(\n",
    "    smooth=1.5,\n",
    "    labels =[r\"$\\kappa$\",r\"$\\gamma$\"],\n",
    "    #quantiles=[0.16, 0.84],\n",
    "    #range=[[0.27,0.335],[66.0,73.0]],\n",
    "    bins=30,\n",
    "    levels=(0.68,0.95),\n",
    "    plot_density=False,\n",
    "    plot_datapoints=False,\n",
    "    fill_contours=True,\n",
    "    show_titles=False,\n",
    "    max_n_ticks=4,\n",
    "    labelpad=-0.1\n",
    ")\n",
    "CORNER_KWARGS.update(range=[[0,3.2],[0,3.2]])"
   ]
  },
  {
   "cell_type": "code",
   "execution_count": null,
   "metadata": {},
   "outputs": [],
   "source": [
    "out_dir='./out_dir/'"
   ]
  },
  {
   "cell_type": "code",
   "execution_count": null,
   "metadata": {},
   "outputs": [],
   "source": [
    "def get_flat_smaples(A,B):\n",
    "    return np.vstack((A.flatten(),B.flatten())).T\n",
    "\n",
    "def plot_corner_res_vs_unres(res_sam,unres_sam,labels =[r\"$\\kappa$\",r\"$\\gamma$\"],plot_range=[[0,3.2],[0,3.2]]):\n",
    "    CORNER_KWARGS.update(range=plot_range)\n",
    "    CORNER_KWARGS.update(labels=labels)\n",
    "    fig=corner.corner(\n",
    "        unres_sam,hist_kwargs=dict(density=True),\n",
    "        color=clrs[0],\n",
    "        **CORNER_KWARGS\n",
    "    )\n",
    "    \n",
    "    \n",
    "    fig=corner.corner(\n",
    "        res_sam,hist_kwargs=dict(density=True),\n",
    "        color=clrs[1],fig=fig,\n",
    "        **CORNER_KWARGS\n",
    "    )\n",
    "    \n",
    "    return fig\n",
    "\n",
    "\n",
    "LSST_theta=0.5\n",
    "idx_unres=np.where(im_sep<=LSST_theta)[0]\n",
    "idx_res=np.where(im_sep>LSST_theta)[0]\n",
    "binsd=np.linspace(0,2,21)\n"
   ]
  },
  {
   "cell_type": "code",
   "execution_count": null,
   "metadata": {},
   "outputs": [],
   "source": [
    "def overplot_magnification_map_k_g2(res_sam,unres_sam,labels =[r\"$\\kappa$\",r\"$\\gamma$\"],plot_range=[[0,2.8],[0,2.8]],savename=None, plot_ds=None):\n",
    "    Nbin_cm=100\n",
    "    k_vals=np.linspace(plot_range[0][0],plot_range[0][1], Nbin_cm)\n",
    "    g_vals=np.linspace(plot_range[0][0],plot_range[0][1], Nbin_cm)\n",
    "    k_grid,g_grid=np.meshgrid(k_vals, g_vals)\n",
    "    magnification_grid = np.log10(np.abs(get_magnification_from_kappa_gamma(k_grid,g_grid)))\n",
    "\n",
    "    plt.pcolormesh(k_grid,g_grid, magnification_grid, shading='auto', cmap='gist_yarg',vmin=-1.0, vmax=1.0,zorder=1)\n",
    "    plt.colorbar(label=r'$\\log_{10}(|\\tilde{\\mu} (\\kappa, \\gamma)|)$')  # Add a colorbar to the plot\n",
    "\n",
    "    plt.xlabel(r'$\\kappa$')\n",
    "    plt.ylabel(r'$\\gamma$')\n",
    "    #plt.title('2D Color Plot of f(x, y)')\n",
    "    corner.hist2d(unres_sam[:,0],unres_sam[:,1], bins=30, \n",
    "                  range=plot_range,levels=(0.95,), smooth=0.0, ax=None, color=clrs[0], \n",
    "                  quiet=False, plot_datapoints=False, plot_density=False, plot_contours=True, \n",
    "                  no_fill_contours=True, fill_contours=False,zorder=1)\n",
    "    corner.hist2d(res_sam[:,0],res_sam[:,1], bins=30, \n",
    "                  range=plot_range,levels=(0.95,), smooth=0.0, ax=None, color=clrs[1], \n",
    "                  quiet=False, plot_datapoints=False, plot_density=False, plot_contours=True, \n",
    "                  no_fill_contours=True, fill_contours=False,zorder=1)\n",
    "\n",
    "    plt.plot(plot_range[0],plot_range[0],ls=\"--\",c=\"k\",zorder=2)\n",
    "    if plot_ds:\n",
    "        iidx2=np.where(all_good_downsampled_data[:,1]==2)[0]\n",
    "        iidx2=np.where(all_good_downsampled_data[:,1]==2)[0]\n",
    "        plt.scatter(all_good_downsampled_data[idx4,2],all_good_downsampled_data[idx4,3],c=clrs[3],marker='o',s=6.0,alpha=1.0,zorder=3)\n",
    "        plt.scatter(all_good_downsampled_data[idx2,2],all_good_downsampled_data[idx2,3],c=clrs[2],marker='x',s=8.0,zorder=3)\n",
    "       \n",
    "        #plt.xlabel(r\"$\\kappa$\");plt.xlabel(r\"$\\gamma$\")\n",
    "    if savename:\n",
    "        plt.savefig(out_dir+savename+'.png',dpi=800)\n",
    "        plt.savefig(paper_out_dir+savename+'.pdf')\n",
    "    plt.show()"
   ]
  },
  {
   "cell_type": "code",
   "execution_count": null,
   "metadata": {},
   "outputs": [],
   "source": [
    "def get_res_unres_sam_quantity(quantity,sys_check):\n",
    "    return quantity[np.in1d(sysn,sys_check)]\n",
    "\n",
    "binsd=np.linspace(0,2,21)\n",
    "check_mag_cut,check_im_sep_cut=22.6,LSST_theta\n",
    "\n",
    "print(\"*** resolved/unresolved defined based on: (theta_th=%s) and (iband_mag_th=%s) ***\"%(check_im_sep_cut,check_mag_cut))\n",
    "\n",
    "[unres_doubles,unres_quads,res_doubles,\n",
    " res_quads],[Ndouble_unresolved_detect,Nquad_unresolved_detect,\n",
    "                                                                 Ndouble_resolved_detect,Nquad_resolved_detect]=get_res_unres_sys(check_mag_cut,check_im_sep_cut)\n",
    "\n",
    "\n",
    "\n",
    "unres_kappa_sam=get_res_unres_sam_quantity(kappa,unres_doubles+unres_quads)\n",
    "unres_gamma_sam=get_res_unres_sam_quantity(gamma,unres_doubles+unres_quads)\n",
    "res_kappa_sam=get_res_unres_sam_quantity(kappa,res_doubles+res_quads)\n",
    "res_gamma_sam=get_res_unres_sam_quantity(gamma,res_doubles+res_quads)\n",
    "\n",
    "\n",
    "plot_hist_percentage(unres_kappa_sam,histtyep='bar',bins=binsd)\n",
    "plot_hist_percentage(res_kappa_sam,histtyep='step',bins=binsd)\n",
    "plt.ylabel(r\"frac of system\")\n",
    "plt.xlabel(r\"$\\kappa$\")\n",
    "# aaa=plt.hist(unres_kappa_sam,density=True,bins=binsd)\n",
    "# aaa=plt.hist(res_kappa_sam,density=True,histtype='step',bins=binsd)\n",
    "plt.show()\n",
    "\n",
    "plot_hist_percentage(unres_gamma_sam,histtyep='bar',bins=binsd)\n",
    "plot_hist_percentage(res_gamma_sam,histtyep='step',bins=binsd)\n",
    "plt.ylabel(r\"frac of system\")\n",
    "plt.xlabel(r\"$\\gamma$\")\n",
    "# aaa=plt.hist(unres_gamma_sam,density=True,bins=binsd)\n",
    "# aaa=plt.hist(res_gamma_sam,density=True,histtype='step',bins=binsd)\n",
    "plt.show()\n",
    "\n",
    "unres_kappa_gamma_sam=get_flat_smaples(unres_kappa_sam,unres_gamma_sam)\n",
    "res_kappa_gamma_sam=get_flat_smaples(res_kappa_sam,res_gamma_sam)\n",
    "fig=plot_corner_res_vs_unres(res_kappa_gamma_sam ,unres_kappa_gamma_sam)  \n",
    "plt.show()\n",
    "\n",
    "overplot_magnification_map_k_g2(res_kappa_gamma_sam,unres_kappa_gamma_sam, savename='kappa-gamma-mu',plot_ds=True)\n",
    "\n",
    "#=========== mu - td ==========================\n",
    "raw_unres_dt_sam=get_res_unres_sam_quantity(td,unres_doubles+unres_quads)\n",
    "raw_unres_mu_sam=get_res_unres_sam_quantity(magnification,unres_doubles+unres_quads)\n",
    "idx_td=np.where(raw_unres_dt_sam!=0)[0]\n",
    "unres_dt_sam=raw_unres_dt_sam[idx_td]; unres_mu_sam=raw_unres_mu_sam[idx_td]; \n",
    "\n",
    "raw_res_dt_sam=get_res_unres_sam_quantity(td,res_doubles+res_quads)\n",
    "raw_res_mu_sam=get_res_unres_sam_quantity(magnification,res_doubles+res_quads)\n",
    "idx_td=np.where(raw_res_dt_sam!=0)[0]\n",
    "res_dt_sam=raw_res_dt_sam[idx_td]; res_mu_sam=raw_res_mu_sam[idx_td];\n",
    "\n",
    "unres_mu_dt_sam=get_flat_smaples(unres_mu_sam,unres_dt_sam)\n",
    "res_mu_dt_sam=get_flat_smaples(res_mu_sam,res_dt_sam)\n",
    "\n",
    "\n",
    "fig=plot_corner_res_vs_unres(res_mu_dt_sam ,unres_mu_dt_sam,labels =[r\"$\\mu$\",r\"$\\Delta t$\"],plot_range=[[0,30],[0,50]]) \n",
    "fig.savefig(out_dir+'mu-dt_dist.png',dpi=700)\n",
    "plt.show()\n",
    "\n",
    "#===================\n",
    "\n",
    "\n",
    "unres_s_z=get_res_unres_sam_quantity(s_z,unres_doubles+unres_quads)\n",
    "res_s_z=get_res_unres_sam_quantity(s_z,res_doubles+res_quads)\n",
    "print(res_s_z.shape)\n",
    "\n",
    "plot_hist_percentage(unres_s_z,histtyep='bar',bins=20,legend=r\"unresolved\")\n",
    "plot_hist_percentage(res_s_z,histtyep='step',bins=20,legend=r\"resolved\")\n",
    "plt.ylabel(r\"frac. of system\")\n",
    "plt.xlabel(r\"source redshift\")\n",
    "plt.legend()\n",
    "plt.savefig(out_dir+'source_redshift_dist.png',dpi=1000,transparent=True)\n",
    "plt.savefig(paper_out_dir+'source_redshift_dist.pdf')\n",
    "plt.show()\n",
    "\n",
    "\n",
    "\n",
    "unres_lens_z=get_res_unres_sam_quantity(lens_z,unres_doubles+unres_quads)\n",
    "res_lens_z=get_res_unres_sam_quantity(lens_z,res_doubles+res_quads)\n",
    "\n",
    "plot_hist_percentage(unres_lens_z,histtyep='bar',bins=20,legend=r\"unresolved\")\n",
    "plot_hist_percentage(res_lens_z,histtyep='step',bins=20,legend=r\"resolved\")\n",
    "plt.ylabel(r\"frac. of system\")\n",
    "plt.xlabel(r\"lens redshift\")\n",
    "plt.legend()\n",
    "plt.savefig(out_dir+'lens_redshift_dist.png',dpi=1000,transparent=True)\n",
    "plt.savefig(paper_out_dir+'lens_redshift_dist.pdf')\n",
    "plt.show()\n",
    "print(\"*** resolved/unresolved defined based on: (theta_th=%s) and (iband_mag_th=%s) ***\"%(check_im_sep_cut,check_mag_cut))\n"
   ]
  },
  {
   "cell_type": "code",
   "execution_count": null,
   "metadata": {},
   "outputs": [],
   "source": [
    "#for the unique per system quantities like lenns_z, s_z, lens_vel_disp etc\n",
    "def get_res_unres_sam_quantity22(quantity,sys_check):\n",
    "    ret=[]\n",
    "    for sysnii in sys_check:\n",
    "        ret.extend(quantity[sysn==sysnii][:1])\n",
    "    return np.array(ret)\n",
    "\n",
    "histtypes=['bar','step']\n",
    "def compare_hist(quantity,sysn_lists_,axes_labels,labels,bins=20,ifsavefig=None):\n",
    "    for ii,sysn_list_ in enumerate(sysn_lists_):\n",
    "        quantity_sample=get_res_unres_sam_quantity22(quantity,sysn_list_);\n",
    "        print(ii,'sample length=',len(quantity_sample))\n",
    "        plot_hist_percentage(quantity_sample,histtyep=histtypes[ii],bins=bins,legend=r\"%s\"%(labels[ii]))\n",
    "    plt.ylabel(r\"%s\"%(axes_labels[1]))\n",
    "    plt.xlabel(r\"%s\"%(axes_labels[0]))\n",
    "    plt.legend()\n",
    "    if ifsavefig:\n",
    "        plt.savefig(ifsavefig)\n",
    "    plt.show()\n",
    "    "
   ]
  },
  {
   "cell_type": "code",
   "execution_count": null,
   "metadata": {},
   "outputs": [],
   "source": [
    "compare_hist(s_z,[unres_doubles+unres_quads,res_doubles+res_quads],['source redshift','frac. of system'],['unresolved','resolved'],bins=20,ifsavefig=paper_out_dir+'source_redshift_dist.pdf')\n",
    "\n",
    "plt.show()\n",
    "\n",
    "compare_hist(lens_z,[unres_doubles+unres_quads,res_doubles+res_quads],['lens redshift','frac. of system'],['unresolved','resolved'],bins=20,ifsavefig=paper_out_dir+'lens_redshift_dist.pdf')\n",
    "plt.show()\n",
    "\n",
    "\n",
    "compare_hist(lens_vel_disp,[unres_doubles+unres_quads,res_doubles+res_quads],['velocity dispersion ($\\sigma$, in km/s)','frac. of system'],['unresolved','resolved'],bins=20,ifsavefig=paper_out_dir+'vel_disp_dist.pdf')\n",
    "plt.show()\n",
    "\n",
    "\n",
    "compare_hist(lens_ellipticity,[unres_doubles+unres_quads,res_doubles+res_quads],['lens ellipticity','frac. of system'],['unresolved','resolved'],bins=20,ifsavefig=paper_out_dir+'lens_ellipticity_dist.pdf')\n",
    "plt.show()"
   ]
  },
  {
   "cell_type": "code",
   "execution_count": null,
   "metadata": {},
   "outputs": [],
   "source": [
    "CORNER_KWARGS1 = dict(\n",
    "    smooth=0.8,\n",
    "    labels =[r\"$\\kappa$\",r\"$\\gamma$\"],\n",
    "    #quantiles=[0.16, 0.84],\n",
    "    #range=[[0.27,0.335],[66.0,73.0]],\n",
    "    bins=25,\n",
    "    levels=(0.68,0.95),\n",
    "    plot_density=True,\n",
    "    plot_datapoints=False,\n",
    "    fill_contours=True,\n",
    "    show_titles=False,\n",
    "    max_n_ticks=5,\n",
    "    labelpad=-0.1\n",
    ")\n",
    "CORNER_KWARGS1.update(range=[[0,3.2],[0,3.2]])\n",
    "\n",
    "def plot_corner_res_vs_unres2(unres_sam,res_sam,labels =[r\"$\\kappa$\",r\"$\\gamma$\"],plot_range=[[0,3.2],[0,3.2]]):\n",
    "    CORNER_KWARGS1.update(range=plot_range)\n",
    "    CORNER_KWARGS1.update(labels=labels)\n",
    "    fig=corner.corner(\n",
    "        unres_sam,hist_kwargs=dict(density=True),\n",
    "        color=clrs[0],\n",
    "        **CORNER_KWARGS1\n",
    "    )\n",
    "    \n",
    "    \n",
    "    fig=corner.corner(\n",
    "        res_sam,hist_kwargs=dict(density=True),\n",
    "        color=clrs[1],fig=fig,\n",
    "        **CORNER_KWARGS1\n",
    "    )\n",
    "    \n",
    "    return fig\n",
    "\n",
    "\n",
    "unres_lens_z_sam=get_res_unres_sam_quantity22(lens_z,unres_doubles+unres_quads)\n",
    "unres_lens_vel_disp_sam=get_res_unres_sam_quantity22(lens_vel_disp,unres_doubles+unres_quads)\n",
    "\n",
    "res_lens_z_sam=get_res_unres_sam_quantity22(lens_z,res_doubles+res_quads)\n",
    "res_lens_vel_disp_sam=get_res_unres_sam_quantity22(lens_vel_disp,res_doubles+res_quads)\n",
    "\n",
    "unres_lens_z_lens_vel_disp_sam=get_flat_smaples(unres_lens_z_sam,unres_lens_vel_disp_sam)\n",
    "res_lens_z_lens_vel_disp_sam=get_flat_smaples(res_lens_z_sam,res_lens_vel_disp_sam)\n",
    "\n",
    "\n",
    "fig=plot_corner_res_vs_unres2(unres_lens_z_lens_vel_disp_sam,res_lens_z_lens_vel_disp_sam,labels =[r\"lens redshift\",r\"$\\sigma~$(km/s)\"],plot_range=[[0,1.4],[0,405]]) \n",
    "\n",
    "\n",
    "axes = np.array(fig.axes).reshape((2,2))\n",
    "axes[0,0].remove()\n",
    "axes[0,1].remove()\n",
    "axes[1,1].remove()\n",
    "axes[1, 0].set_ylabel(r\"$\\sigma~$(km/s)\", labelpad=10)\n",
    "axes[1, 0].yaxis.set_label_coords(-0.1, 0.5)  # Adjust y-axis label position\n",
    "axes[1, 0].xaxis.set_label_coords(0.5, -0.13)  # Adjust y-axis label position\n",
    "\n",
    "fig.set_size_inches(13.5, 2*13.5/3)\n",
    "\n",
    "\n",
    "# axs[0, 1] should occupy the top half\n",
    "#axes[0, 1].set_position([0.1, 0.55, 0.85, 0.35])  # [left, bottom, width, height]\n",
    "# axs[1, 0] should occupy the bottom half\n",
    "#axes[1, 0].set_position([0.1, 0.1, 0.85, 0.35])\n",
    "\n",
    "#plt.subplots_adjust(left=0.1, right=0.9, top=0.9, bottom=0.1, wspace=0.3, hspace=0.3)\n",
    "#new_fig.subplots_adjust(left=0, right=1, top=1, bottom=0, wspace=0, hspace=0)\n",
    "plt.subplots_adjust(left=0.1, right=0.9, top=0.9, bottom=0.1, wspace=0.3, hspace=0.3)\n",
    "fig.savefig(paper_out_dir+'len-z_sigma_dist1.pdf',bbox_inches='tight')\n",
    "plt.show()"
   ]
  },
  {
   "cell_type": "code",
   "execution_count": null,
   "metadata": {},
   "outputs": [],
   "source": [
    "bins=np.linspace(0,1.4,20)\n",
    "plt.hist(unres_lens_z_sam,density=True,bins=bins)\n",
    "plt.hist(res_lens_z_sam,density=True,histtype='step',bins=bins)"
   ]
  },
  {
   "cell_type": "code",
   "execution_count": null,
   "metadata": {},
   "outputs": [],
   "source": [
    "unres_lens_z_lens_vel_disp_sam.shape"
   ]
  },
  {
   "cell_type": "code",
   "execution_count": null,
   "metadata": {},
   "outputs": [],
   "source": [
    "paper_out_dir"
   ]
  },
  {
   "cell_type": "code",
   "execution_count": null,
   "metadata": {},
   "outputs": [],
   "source": [
    "unres_s_z1=get_res_unres_sam_quantity22(lens_z,unres_doubles+unres_quads);print(len(unres_s_z1))\n",
    "res_s_z1=get_res_unres_sam_quantity22(lens_z,res_doubles+res_quads);print(len(res_s_z1))\n",
    "\n",
    "plot_hist_percentage(unres_s_z1,histtyep='bar',bins=20,legend=r\"unresolved\")\n",
    "plot_hist_percentage(res_s_z1,histtyep='step',bins=20,legend=r\"resolved\")\n",
    "plt.ylabel(r\"frac. of system\")\n",
    "plt.xlabel(r\"source redshift\")\n",
    "plt.legend()"
   ]
  },
  {
   "cell_type": "code",
   "execution_count": null,
   "metadata": {},
   "outputs": [],
   "source": [
    "np.where(np.in1d(sysn,unres_doubles+unres_quads)==True)[0].shape"
   ]
  },
  {
   "cell_type": "code",
   "execution_count": null,
   "metadata": {},
   "outputs": [],
   "source": [
    "len(unres_doubles),len(unres_quads),len(res_doubles),len(res_quads)"
   ]
  },
  {
   "cell_type": "code",
   "execution_count": null,
   "metadata": {},
   "outputs": [],
   "source": [
    "unres_lens_vel_disp=get_res_unres_sam_quantity(lens_vel_disp,unres_doubles+unres_quads)\n",
    "res_lens_vel_disp=get_res_unres_sam_quantity(lens_vel_disp,res_doubles+res_quads)\n",
    "\n",
    "plot_hist_percentage(unres_lens_vel_disp,histtyep='bar',bins=20,legend=r\"unresolved\")\n",
    "plot_hist_percentage(res_lens_vel_disp,histtyep='step',bins=20,legend=r\"resolved\")\n",
    "#plot_hist_percentage(lens_vel_disp,histtyep='step',bins=20,legend=r\"all\")\n",
    "plt.ylabel(r\"frac. of system\")\n",
    "plt.xlabel(r\"velocity dispersion $(km/s)$\")\n",
    "plt.legend()\n",
    "# plt.savefig(out_dir+'source_redshift_dist.png',dpi=1000,transparent=True)\n",
    "# plt.savefig(paper_out_dir+'source_redshift_dist.pdf')\n",
    "# plt.show()"
   ]
  },
  {
   "cell_type": "code",
   "execution_count": null,
   "metadata": {},
   "outputs": [],
   "source": [
    "res_s_z.shape"
   ]
  },
  {
   "cell_type": "code",
   "execution_count": null,
   "metadata": {},
   "outputs": [],
   "source": [
    "len(res_doubles+res_quads)"
   ]
  },
  {
   "cell_type": "code",
   "execution_count": null,
   "metadata": {},
   "outputs": [],
   "source": [
    "unres_td_sam=get_res_unres_sam_quantity(td,unres_doubles+unres_quads)\n",
    "res_td_sam=get_res_unres_sam_quantity(td,res_doubles+res_quads)\n",
    "unres_td_sam=unres_td_sam[unres_td_sam!=0]\n",
    "res_td_sam=res_td_sam[res_td_sam!=0]\n",
    "\n",
    "binsd=np.linspace(0.0,20,50)\n",
    "\n",
    "aaa=plt.hist(unres_td_sam,density=False,histtype='step',bins=binsd,cumulative=True)\n",
    "aaa=plt.hist(res_td_sam,density=False,histtype='step',bins=binsd,cumulative=True)\n",
    "plt.xlabel(r\"time delay (days)\")\n",
    "plt.show()"
   ]
  },
  {
   "cell_type": "code",
   "execution_count": null,
   "metadata": {},
   "outputs": [],
   "source": [
    "def get_highest_td(sysn,check_list):\n",
    "    highest_td=[]\n",
    "    for check_sys in check_list:\n",
    "        highest_td.append((td[sysn==check_sys]).max())\n",
    "    return np.array(highest_td)\n",
    "    \n",
    "unres_largest_td=get_highest_td(sysn,unres_doubles+unres_quads)\n",
    "res_largest_td=get_highest_td(sysn,res_doubles+res_quads)"
   ]
  },
  {
   "cell_type": "code",
   "execution_count": null,
   "metadata": {},
   "outputs": [],
   "source": [
    "#better implementation: for quads take a td that also has a better mu\n",
    "\n",
    "def quad_get_best_mu_td_choice(td1,mu1, mulim1=1/5.0, mulim2=4.0):\n",
    "    for td11,mu11 in zip(reversed(td1),reversed(mu1)):\n",
    "        if mulim1<=mu11<=mulim2:\n",
    "            return td11,mu11\n",
    "    return td1[-1],mu1[-1]\n",
    "    \n",
    "\n",
    "\n",
    "def get_highest_td2(sysn,check_list):\n",
    "    highest_td=[]\n",
    "    corresponding_mu=[]\n",
    "    for check_sys in check_list:\n",
    "        idx=np.where(sysn==check_sys)[0]\n",
    "        #print(idx)\n",
    "        tds_sys=td[idx]\n",
    "        id_sort=np.argsort(tds_sys); tds_sys=tds_sys[id_sort]\n",
    "        magnification_sys=np.abs((magnification[idx])[id_sort])\n",
    "        print(td[idx])\n",
    "        print(magnification[idx])\n",
    "        mus_sys=magnification_sys/magnification_sys[0]\n",
    "        if len(idx)==2: \n",
    "            highest_td.append(tds_sys[-1])\n",
    "            corresponding_mu.append(mus_sys[-1])\n",
    "        elif len(idx)==4:\n",
    "            #td11,mu11=tds_sys[-1],mus_sys[-1]\n",
    "            td11,mu11=quad_get_best_mu_td_choice(tds_sys[1:],mus_sys[1:])\n",
    "            highest_td.append(td11)\n",
    "            corresponding_mu.append(mu11)\n",
    "            \n",
    "            \n",
    "        else: print(\"Problem ....\")\n",
    "        print(tds_sys[-1],mus_sys[-1])\n",
    "        print(\"------- \\n\")\n",
    "        \n",
    "\n",
    "            \n",
    "            \n",
    "            \n",
    "        \n",
    "        \n",
    "    return np.array(highest_td),np.array(corresponding_mu)\n",
    "    \n",
    "unres_largest_td2,unres_corresponding_mu2=get_highest_td2(sysn,unres_doubles+unres_quads)\n",
    "res_largest_td=get_highest_td(sysn,res_doubles+res_quads)"
   ]
  },
  {
   "cell_type": "code",
   "execution_count": null,
   "metadata": {},
   "outputs": [],
   "source": [
    "CORNER_KWARGS = dict(\n",
    "    smooth=2.0,\n",
    "    labels =[r\"$\\kappa$\",r\"$\\gamma$\"],\n",
    "    #quantiles=[0.16, 0.84],\n",
    "    #range=[[0.27,0.335],[66.0,73.0]],\n",
    "    #bins=40,\n",
    "    levels=(0.68,0.95),\n",
    "    plot_density=False,\n",
    "    plot_datapoints=False,\n",
    "    fill_contours=True,\n",
    "    show_titles=False,\n",
    "    max_n_ticks=4,\n",
    "    labelpad=-0.1\n",
    ")\n",
    "CORNER_KWARGS.update(range=[[0,3.2],[0,3.2]])\n",
    "\n",
    "def plot_corner(sam,labels =[r\"$\\mu$\",r\"$\\Delta t$\"],bins=36,plot_range=[[0,10.0],[0,30.0]]):\n",
    "    CORNER_KWARGS.update(range=plot_range)\n",
    "    CORNER_KWARGS.update(labels=labels)\n",
    "    #CORNER_KWARGS.update(bins=bins)\n",
    "    #CORNER_KWARGS.update(hist_bin_factor=hist_bin_factor)\n",
    "    #CORNER_KWARGS.update(fig=fig)\n",
    "    #fig = plt.figure(figsize=(8, 8))\n",
    "    fig=corner.corner(\n",
    "        sam,bins=bins,hist_kwargs=dict(density=True),\n",
    "        color=clrs[0],\n",
    "        **CORNER_KWARGS\n",
    "    )\n",
    "    \n",
    "    return fig\n"
   ]
  },
  {
   "cell_type": "code",
   "execution_count": null,
   "metadata": {},
   "outputs": [],
   "source": [
    "#plt.rcParams[\"figure.figsize\"] = (6.,4.0)\n",
    "samples2=get_flat_smaples(unres_largest_td2,unres_corresponding_mu2)\n",
    "fig=plot_corner(samples2,labels =[r\"${\\Delta t}_{\\rm max}$ (days)\",r\"$\\mu$\"],plot_range=[[0,20.0],[0,3.0]])\n",
    "# axes = np.array(fig.axes).reshape((2,2))\n",
    "# for a in axes[np.triu_indices(2)]:\n",
    "#     a.remove()\n",
    "axes = np.array(fig.axes).reshape((2,2))\n",
    "axes[0,0].remove()\n",
    "\n",
    "plt.savefig(paper_out_dir+'highest-td-mu-contour.png',dpi=1000,transparent=True,bbox_inches='tight', pad_inches=0)\n",
    "plt.savefig(paper_out_dir+'highest-td-mu-contour.pdf',bbox_inches='tight', pad_inches=0)\n",
    "\n",
    "\n",
    "plt.show()"
   ]
  },
  {
   "cell_type": "code",
   "execution_count": null,
   "metadata": {},
   "outputs": [],
   "source": [
    "def num_sys(mu_arr1,dt_array_1,muth,dtth_arr):\n",
    "    Nsys1_arr=[]\n",
    "    for dtth in dtth_arr:\n",
    "        N1=len(np.where((mu_arr1>=muth) & (dt_array_1>=dtth))[0])\n",
    "        Nsys1_arr.append(N1)\n",
    "    return Nsys1_arr\n",
    "\n",
    "def tempfunc(dt_array_1,dtth_arr):\n",
    "    Nsys1_arr=[]\n",
    "    for dtth in dtth_arr:\n",
    "        N1=len(np.where(dt_array_1>=dtth)[0])\n",
    "        Nsys1_arr.append(N1)\n",
    "    return Nsys1_arr"
   ]
  },
  {
   "cell_type": "code",
   "execution_count": null,
   "metadata": {},
   "outputs": [],
   "source": [
    "obs_factor=0.5\n",
    "dtth_arr=np.linspace(0.0,10.0,101)\n",
    "legend1_arr=[]\n",
    "for imuth,muth in enumerate([0.1,0.2,1/3]):\n",
    "    n11=num_sys(unres_corresponding_mu2,unres_largest_td2,muth,dtth_arr)\n",
    "    p11,=plt.plot(dtth_arr,obs_factor*np.array(n11),lw=2.0,ls=\"dotted\",label=r\"$\\mu_{\\rm corr}>%.2f$\"%(muth),c=clrs[3+imuth])\n",
    "    legend1_arr.append(p11)\n",
    "    \n",
    "#for resolved without caring about mu\n",
    "n12=tempfunc(res_largest_td,dtth_arr)\n",
    "\n",
    "\n",
    "plt.rcParams['legend.title_fontsize'] =11\n",
    "#plt.legend(title=r\"unresolved\")\n",
    "\n",
    "p22,=plt.plot(dtth_arr,obs_factor*np.array(n12),lw=1.25,ls=\"dashed\",label=r\"resolved (any $\\mu$)\",c=clrs[1])\n",
    "#plt.legend(title=r\"unresolved\")\n",
    "plt.xlabel(r\"$t$ (days)\")\n",
    "plt.ylabel(r\"No. of sys (${\\Delta t}_{\\rm max} > t$)\")\n",
    "\n",
    "legend_box1 = plt.legend(handles=legend1_arr, loc=0,ncol=1,title=r\"unresolved\")\n",
    "legend_box2 = plt.legend(handles=[p22], loc=[0.635,0.56], ncol=3)\n",
    "\n",
    "# Add the legends to the plot\n",
    "plt.gca().add_artist(legend_box1)\n",
    "\n",
    "plt.savefig('unres_mucut_sam_no.pdf')\n",
    "plt.savefig(paper_out_dir+'unres_mucut_sam_no.png',dpi=1000,transparent=True)\n"
   ]
  },
  {
   "cell_type": "code",
   "execution_count": null,
   "metadata": {},
   "outputs": [],
   "source": [
    "np.percentile(unres_corresponding_mu2,[2.5,16.0,50.0,68.0,97.5])"
   ]
  },
  {
   "cell_type": "code",
   "execution_count": null,
   "metadata": {},
   "outputs": [],
   "source": [
    "len(unres_corresponding_mu2[unres_corresponding_mu2>=0.33]),len(unres_corresponding_mu2[unres_corresponding_mu2>=0.33])/len(unres_corresponding_mu2)"
   ]
  },
  {
   "cell_type": "code",
   "execution_count": null,
   "metadata": {},
   "outputs": [],
   "source": [
    "binsd=np.linspace(0.0,200,500)\n",
    "\n",
    "aaa=plt.hist(unres_largest_td2,density=True,histtype='step',bins=binsd,cumulative=-1,label=r\"unresolved\",lw=2.0)\n",
    "aaa=plt.hist(res_largest_td,density=True,histtype='step',bins=binsd,cumulative=-1,label=r\"resolved\",lw=2.0)\n",
    "plt.xlabel(r\"$t$ (days)\")\n",
    "plt.ylabel(r\"fraction of sys (${\\Delta t}_{\\rm max} > t$)\")\n",
    "plt.xlim([0.0,20.0])\n",
    "plt.legend(frameon=False)\n",
    "plt.savefig(out_dir+'dt_dist001.png',dpi=600)\n",
    "plt.savefig(paper_out_dir+'highest-td1.pdf')\n",
    "plt.savefig(paper_out_dir+'highest-td1.png',dpi=1000,transparent=True)\n",
    "plt.show()\n",
    "\n",
    "aaa=plt.hist(unres_largest_td2,histtype='step',bins=binsd,cumulative=-1,label=r\"unresolved\",lw=2.0)\n",
    "aaa=plt.hist(res_largest_td,histtype='step',bins=binsd,cumulative=-1,label=r\"resolved\",lw=2.0)\n",
    "Ntot_res=len(res_doubles+res_quads)\n",
    "#plt.plot([binsd[0],binsd[-1]],[Ntot_res,Ntot_res],c='orange',lw=2.0,ls='--')\n",
    "plt.xlabel(r\"$t$ (days)\")\n",
    "plt.ylabel(r\"No. of sys (${\\Delta t}_{\\rm max} > t$)\")\n",
    "plt.xlim([0.0,20.0])\n",
    "plt.legend()\n",
    "plt.savefig(out_dir+'dt_dist002.png',dpi=600)\n",
    "plt.savefig(paper_out_dir+'highest-td2.pdf')\n",
    "plt.savefig(paper_out_dir+'highest-td2.png',dpi=1000,transparent=True)\n",
    "plt.show()"
   ]
  },
  {
   "cell_type": "code",
   "execution_count": null,
   "metadata": {},
   "outputs": [],
   "source": [
    "obs_factor=0.1\n",
    "aaa=plt.hist(unres_largest_td2,weights=np.ones_like(unres_largest_td2)*obs_factor,histtype='step',bins=binsd,cumulative=-1,label=r\"unresolved\",lw=2.0)\n",
    "aaa=plt.hist(res_largest_td,weights=np.ones_like(res_largest_td)*obs_factor,histtype='step',bins=binsd,cumulative=-1,label=r\"resolved\",lw=2.0)\n",
    "Ntot_res=len(res_doubles+res_quads)\n",
    "#plt.plot([binsd[0],binsd[-1]],[Ntot_res,Ntot_res],c='orange',lw=2.0,ls='--')\n",
    "plt.xlabel(r\"$t$ (days)\")\n",
    "plt.ylabel(r\"No. of sys (${\\Delta t}_{\\rm max} > t$)\")\n",
    "plt.xlim([0.0,20.0])\n",
    "plt.legend()\n",
    "plt.savefig(paper_out_dir+'highest-td22.png',dpi=1000,transparent=True)\n",
    "\n",
    "plt.legend()\n",
    "plt.savefig(out_dir+'dt_dist002.png',dpi=600)\n",
    "plt.savefig(paper_out_dir+'highest-td2.pdf')\n",
    "\n",
    "plt.show()"
   ]
  },
  {
   "cell_type": "code",
   "execution_count": null,
   "metadata": {},
   "outputs": [],
   "source": [
    "plt.scatter(tot_magnification_all,unres_largest_td)\n",
    "plt.xlim([0,60])\n",
    "plt.xlabel(r\"$\\tilde{\\mu}_{\\rm tot}$\")\n",
    "plt.ylabel(r\"${\\Delta t}_{\\rm max}$ (days)\")\n",
    "\n",
    "plt.savefig(paper_out_dir+'td_mu_tot_dist.pdf')"
   ]
  },
  {
   "cell_type": "code",
   "execution_count": null,
   "metadata": {},
   "outputs": [],
   "source": []
  },
  {
   "cell_type": "code",
   "execution_count": null,
   "metadata": {},
   "outputs": [],
   "source": []
  },
  {
   "cell_type": "code",
   "execution_count": null,
   "metadata": {},
   "outputs": [],
   "source": []
  },
  {
   "cell_type": "code",
   "execution_count": null,
   "metadata": {},
   "outputs": [],
   "source": []
  },
  {
   "cell_type": "code",
   "execution_count": null,
   "metadata": {},
   "outputs": [],
   "source": []
  }
 ],
 "metadata": {
  "kernelspec": {
   "display_name": "Python 3 (ipykernel)",
   "language": "python",
   "name": "python3"
  },
  "language_info": {
   "codemirror_mode": {
    "name": "ipython",
    "version": 3
   },
   "file_extension": ".py",
   "mimetype": "text/x-python",
   "name": "python",
   "nbconvert_exporter": "python",
   "pygments_lexer": "ipython3",
   "version": "3.10.13"
  }
 },
 "nbformat": 4,
 "nbformat_minor": 4
}
